{
 "cells": [
  {
   "cell_type": "code",
   "execution_count": 1,
   "metadata": {},
   "outputs": [],
   "source": [
    "# gridWorld from buomsoo-kim / Tabular-RL-with-Python"
   ]
  },
  {
   "cell_type": "code",
   "execution_count": 2,
   "metadata": {},
   "outputs": [],
   "source": [
    "import matplotlib.pyplot as plt\n",
    "import pandas as pd\n",
    "import numpy as np\n",
    "import seaborn\n",
    "\n",
    "from gridWorldEnvironment import GridWorld"
   ]
  },
  {
   "cell_type": "code",
   "execution_count": 3,
   "metadata": {},
   "outputs": [],
   "source": [
    "# creating gridworld environment\n",
    "gw = GridWorld(gamma = 1.0, theta = 0.5)"
   ]
  },
  {
   "cell_type": "markdown",
   "metadata": {},
   "source": [
    "### Create Policy"
   ]
  },
  {
   "cell_type": "markdown",
   "metadata": {},
   "source": [
    "- Create equiprobable random policy\n",
    "    - Function returns list of (action, probability) tuples"
   ]
  },
  {
   "cell_type": "code",
   "execution_count": 4,
   "metadata": {},
   "outputs": [],
   "source": [
    "def pi(current_state, env):\n",
    "    possible_actions = []\n",
    "    for transition in env.transitions:\n",
    "        if current_state == transition[0]:\n",
    "            possible_actions.append(transition[1])\n",
    "    return [(action, 0.25) for action in possible_actions]"
   ]
  },
  {
   "cell_type": "markdown",
   "metadata": {},
   "source": [
    "### Create and initialize value array"
   ]
  },
  {
   "cell_type": "markdown",
   "metadata": {},
   "source": [
    "- Values in indices 0 and -1 are for terminal states ((0,0) & (3,3))"
   ]
  },
  {
   "cell_type": "code",
   "execution_count": 5,
   "metadata": {},
   "outputs": [],
   "source": [
    "def value_array(env):\n",
    "    return np.zeros(len(env.states)+2)"
   ]
  },
  {
   "cell_type": "markdown",
   "metadata": {},
   "source": [
    "### Evaluate policy"
   ]
  },
  {
   "cell_type": "code",
   "execution_count": 6,
   "metadata": {},
   "outputs": [],
   "source": [
    "def policy_evaluation(policy, env):\n",
    "    values = value_array(env)\n",
    "    i = 0\n",
    "    done = False\n",
    "    while not done:\n",
    "        delta = 0\n",
    "        for state in env.states:\n",
    "            v = values[state]\n",
    "            values[state] = 0\n",
    "            for action, prob in pi(state, env):\n",
    "                next_state, reward = env.state_transition(state, action)\n",
    "                values[state] += prob * (reward + env.gamma * values[next_state]) \n",
    "            delta = max(delta, np.abs(v - values[state]))\n",
    "        i += 1\n",
    "            \n",
    "        # terminating condition\n",
    "        if delta < env.theta:\n",
    "            print(\"Policy evaluation terminated at {}the iteration\".format(i+1))\n",
    "            done = True\n",
    "    return values"
   ]
  },
  {
   "cell_type": "code",
   "execution_count": 7,
   "metadata": {},
   "outputs": [
    {
     "name": "stdout",
     "output_type": "stream",
     "text": [
      "Policy evaluation terminated at 8the iteration\n"
     ]
    }
   ],
   "source": [
    "values = policy_evaluation(pi, gw)"
   ]
  },
  {
   "cell_type": "code",
   "execution_count": 8,
   "metadata": {},
   "outputs": [
    {
     "data": {
      "text/plain": [
       "array([[ 0.        , -3.60015981, -4.42900918, -3.85857433],\n",
       "       [-5.0841953 , -6.51459585, -6.65647916, -5.36081249],\n",
       "       [-6.65360973, -7.33230388, -6.71681448, -4.47945752],\n",
       "       [-5.64060656, -5.89090474, -4.63423071,  0.        ]])"
      ]
     },
     "execution_count": 8,
     "metadata": {},
     "output_type": "execute_result"
    }
   ],
   "source": [
    "values.reshape(4,4)"
   ]
  },
  {
   "cell_type": "markdown",
   "metadata": {},
   "source": [
    "### Visualizing values"
   ]
  },
  {
   "cell_type": "markdown",
   "metadata": {},
   "source": [
    "- Visualizing values in table\n",
    "    - lighter color in table means higher value for random policy"
   ]
  },
  {
   "cell_type": "code",
   "execution_count": 9,
   "metadata": {},
   "outputs": [],
   "source": [
    "def show_values(values):\n",
    "    if values.shape != (4,4):\n",
    "        values = values.reshape(4,4)\n",
    "    ax = seaborn.heatmap(values, cmap = \"Blues_r\", annot = True, linecolor=\"#282828\", linewidths = 0.1)\n",
    "    plt.show()"
   ]
  },
  {
   "cell_type": "code",
   "execution_count": 10,
   "metadata": {},
   "outputs": [
    {
     "data": {
      "image/png": "[encoded data removed]",
      "text/plain": [
       "<Figure size 432x288 with 2 Axes>"
      ]
     },
     "metadata": {
      "needs_background": "light"
     },
     "output_type": "display_data"
    }
   ],
   "source": [
    "show_values(values)"
   ]
  },
  {
   "cell_type": "markdown",
   "metadata": {},
   "source": [
    "### Improve policy"
   ]
  },
  {
   "cell_type": "markdown",
   "metadata": {},
   "source": [
    "- policy_improvement() function performs one round of policy improvement (i.e., one update for each state)\n",
    "    - After one round of improvement, policy reaches near optimal (but not perfect)"
   ]
  },
  {
   "cell_type": "code",
   "execution_count": 11,
   "metadata": {},
   "outputs": [],
   "source": [
    "# one round of policy improvement\n",
    "def policy_improvement(env, values):\n",
    "    new_policy = []\n",
    "    for state in env.states:\n",
    "        temp = []\n",
    "        for action in env.actions:\n",
    "            next_state, _ = env.state_transition(state, action)\n",
    "            temp.append(values[next_state])\n",
    "        temp = np.asarray(temp)\n",
    "        best_action = env.actions[np.argmax(temp)]\n",
    "        new_policy.append(best_action)\n",
    "    return new_policy"
   ]
  },
  {
   "cell_type": "code",
   "execution_count": 12,
   "metadata": {},
   "outputs": [
    {
     "name": "stdout",
     "output_type": "stream",
     "text": [
      "Policy evaluation terminated at 8the iteration\n"
     ]
    }
   ],
   "source": [
    "values = policy_evaluation(pi, gw)\n",
    "new_pi = policy_improvement(gw, values)"
   ]
  },
  {
   "cell_type": "code",
   "execution_count": 13,
   "metadata": {},
   "outputs": [
    {
     "name": "stdout",
     "output_type": "stream",
     "text": [
      "[['T' 'L' 'L' 'U']\n",
      " ['U' 'U' 'U' 'U']\n",
      " ['U' 'D' 'R' 'D']\n",
      " ['D' 'R' 'R' 'T']]\n"
     ]
    }
   ],
   "source": [
    "# improved policy after one improvement\n",
    "new_pi.insert(0, \"T\")\n",
    "new_pi.append(\"T\")\n",
    "new_pi = np.asarray(new_pi)\n",
    "print(new_pi.reshape(4,4))"
   ]
  }
 ],
 "metadata": {
  "kernelspec": {
   "display_name": "Python 3",
   "language": "python",
   "name": "python3"
  },
  "language_info": {
   "codemirror_mode": {
    "name": "ipython",
    "version": 3
   },
   "file_extension": ".py",
   "mimetype": "text/x-python",
   "name": "python",
   "nbconvert_exporter": "python",
   "pygments_lexer": "ipython3",
   "version": "3.7.7"
  }
 },
 "nbformat": 4,
 "nbformat_minor": 4
}
