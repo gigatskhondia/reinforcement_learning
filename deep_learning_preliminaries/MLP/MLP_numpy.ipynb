{
 "cells": [
  {
   "cell_type": "code",
   "execution_count": 1,
   "metadata": {},
   "outputs": [],
   "source": [
    "from sklearn.datasets import make_regression"
   ]
  },
  {
   "cell_type": "code",
   "execution_count": 2,
   "metadata": {},
   "outputs": [],
   "source": [
    "import numpy as np"
   ]
  },
  {
   "cell_type": "code",
   "execution_count": 3,
   "metadata": {},
   "outputs": [],
   "source": [
    "from sklearn.model_selection import train_test_split"
   ]
  },
  {
   "cell_type": "code",
   "execution_count": 4,
   "metadata": {},
   "outputs": [],
   "source": [
    "# http://ufldl.stanford.edu/tutorial/supervised/MultiLayerNeuralNetworks/"
   ]
  },
  {
   "cell_type": "markdown",
   "metadata": {},
   "source": [
    "### Generate data"
   ]
  },
  {
   "cell_type": "code",
   "execution_count": 5,
   "metadata": {},
   "outputs": [],
   "source": [
    "rng = np.random.RandomState(0)"
   ]
  },
  {
   "cell_type": "code",
   "execution_count": 6,
   "metadata": {},
   "outputs": [],
   "source": [
    "n_samples, n_features = 1000, 20"
   ]
  },
  {
   "cell_type": "code",
   "execution_count": 7,
   "metadata": {},
   "outputs": [],
   "source": [
    "X, y = make_regression(n_samples, n_features, random_state=rng)"
   ]
  },
  {
   "cell_type": "code",
   "execution_count": 8,
   "metadata": {},
   "outputs": [],
   "source": [
    "X_train, X_test, y_train, y_test = train_test_split(X, y, random_state=rng)"
   ]
  },
  {
   "cell_type": "markdown",
   "metadata": {},
   "source": [
    "### Baseline"
   ]
  },
  {
   "cell_type": "code",
   "execution_count": 9,
   "metadata": {},
   "outputs": [],
   "source": [
    "from sklearn.linear_model import Lasso, Ridge"
   ]
  },
  {
   "cell_type": "code",
   "execution_count": 10,
   "metadata": {},
   "outputs": [],
   "source": [
    "# reg = Lasso()\n",
    "reg = Ridge(alpha=.5)"
   ]
  },
  {
   "cell_type": "code",
   "execution_count": 11,
   "metadata": {},
   "outputs": [
    {
     "data": {
      "text/plain": [
       "Ridge(alpha=0.5, copy_X=True, fit_intercept=True, max_iter=None,\n",
       "      normalize=False, random_state=None, solver='auto', tol=0.001)"
      ]
     },
     "execution_count": 11,
     "metadata": {},
     "output_type": "execute_result"
    }
   ],
   "source": [
    "reg.fit(X_train, y_train)"
   ]
  },
  {
   "cell_type": "code",
   "execution_count": 12,
   "metadata": {},
   "outputs": [
    {
     "name": "stdout",
     "output_type": "stream",
     "text": [
      "0.999999399117411\n"
     ]
    }
   ],
   "source": [
    "print(reg.score(X_test, y_test))"
   ]
  },
  {
   "cell_type": "code",
   "execution_count": 13,
   "metadata": {},
   "outputs": [],
   "source": [
    "y_pred=reg.predict(X_test)"
   ]
  },
  {
   "cell_type": "code",
   "execution_count": 14,
   "metadata": {},
   "outputs": [],
   "source": [
    "def r2_score(y_test,y_pred):\n",
    "    u = ((y_test - y_pred) ** 2).sum()\n",
    "    v = ((y_test - y_test.mean()) ** 2).sum()\n",
    "    score = (1 - u/v)\n",
    "    return score"
   ]
  },
  {
   "cell_type": "code",
   "execution_count": 15,
   "metadata": {},
   "outputs": [
    {
     "data": {
      "text/plain": [
       "0.9999993991174111"
      ]
     },
     "execution_count": 15,
     "metadata": {},
     "output_type": "execute_result"
    }
   ],
   "source": [
    "r2_score(y_test,y_pred)"
   ]
  },
  {
   "cell_type": "markdown",
   "metadata": {},
   "source": [
    "### MLP"
   ]
  },
  {
   "cell_type": "code",
   "execution_count": 68,
   "metadata": {},
   "outputs": [],
   "source": [
    "mu =  X_train.mean(0)\n",
    "std = X_train.std(0)\n",
    "X_train = np.divide(X_train - mu, std)\n",
    "X_test=np.divide(X_test - mu, std)"
   ]
  },
  {
   "cell_type": "code",
   "execution_count": 69,
   "metadata": {},
   "outputs": [],
   "source": [
    "def sigmoid(z):\n",
    "    return 1/(1+np.exp(-z))"
   ]
  },
  {
   "cell_type": "code",
   "execution_count": 70,
   "metadata": {},
   "outputs": [],
   "source": [
    "def tangent(z):\n",
    "    return (np.exp(z)-np.exp(-z))/(np.exp(z)+np.exp(-z))"
   ]
  },
  {
   "cell_type": "code",
   "execution_count": 71,
   "metadata": {},
   "outputs": [],
   "source": [
    "def leaky_rectified_linear(z):\n",
    "    return z if z > 0 else 0.01*z"
   ]
  },
  {
   "cell_type": "code",
   "execution_count": 72,
   "metadata": {},
   "outputs": [],
   "source": [
    "def MLP_4layers(X, y, epochs = 1000, lambda_ =0.01, learning_rate=1e-3, units_l2=5, units_l3=5, units_l4=1):\n",
    "    \n",
    "    units_l1 = X.shape[1]\n",
    "    \n",
    "    W1=np.random.rand(units_l2,units_l1)*0.5\n",
    "    b1=np.zeros((units_l2,1))\n",
    "      \n",
    "    W2=np.random.rand(units_l3, units_l2)*0.5\n",
    "    b2=np.zeros((units_l3,1))\n",
    "    \n",
    "    \n",
    "    W3=np.random.rand(units_l4, units_l3)*0.5\n",
    "    b3=np.zeros((units_l4,1))\n",
    "    \n",
    "    m=len(X)\n",
    "      \n",
    "    for epoch in range(epochs):\n",
    "        \n",
    "        \n",
    "        J0=0\n",
    "        JW=0\n",
    "        \n",
    "        delW1=np.zeros((units_l2,units_l1))\n",
    "        delb1=np.zeros((units_l2,1))\n",
    "        delW2=np.zeros((units_l3, units_l2))\n",
    "        delb2=np.zeros((units_l3,1))\n",
    "        delW3=np.zeros((units_l4, units_l3))\n",
    "        delb3=np.zeros((units_l4,1))\n",
    "        \n",
    "        for i in range(m):\n",
    "            \n",
    "            # forward\n",
    "            z2=np.dot(W1, X[i].reshape(-1,1))+b1\n",
    "\n",
    "            a2=tangent(z2)\n",
    "            z3=np.dot(W2,a2)+b2 \n",
    "            a3=tangent(z3)\n",
    "            z4=np.dot(W3,a3)+b3 \n",
    "#             a4=leaky_rectified_linear(z4)\n",
    "            a4=z4\n",
    "    \n",
    "            J0+=(a4-y[i])**2\n",
    "            JW+=W1.sum(axis=1).sum(axis=0)**2+W2.sum(axis=1).sum(axis=0)**2+W3.sum(axis=1).sum(axis=0)\n",
    "            \n",
    "            # backward\n",
    "            delta4=-(y[i]-a4)*a4*(1-a4)\n",
    "            delta3=np.dot(W3.T,delta4)*a3*(1-a3)\n",
    "            delta2=np.dot(W2.T,delta3)*a2*(1-a2)\n",
    "            \n",
    "            \n",
    "            derivW3=np.dot(delta4,a3.T)\n",
    "            derivb3=delta4\n",
    "            \n",
    "            derivW2=np.dot(delta3,a2.T)\n",
    "            derivb2=delta3\n",
    "            \n",
    "            derivW1=np.dot(delta2,X[i].reshape(-1,1).T)\n",
    "            derivb1=delta2\n",
    "            \n",
    "            delW3=delW3+derivW3\n",
    "            delb3=delb3+derivb3\n",
    "            \n",
    "            delW2=delW2+derivW2\n",
    "            delb2=delb2+derivb2\n",
    "\n",
    "            delW1=delW1+derivW1\n",
    "            delb1=delb1+derivb1\n",
    "\n",
    "        W3=W3-learning_rate*(1/m*delW3+lambda_*W3)     \n",
    "        b3=b3-learning_rate*(1/m*delb3)  \n",
    "        \n",
    "        W2=W2-learning_rate*(1/m*delW2+lambda_*W2)     \n",
    "        b2=b2-learning_rate*(1/m*delb2)\n",
    "\n",
    "        W1=W1-learning_rate*(1/m*delW1+lambda_*W1)     \n",
    "        b1=b1-learning_rate*(1/m*delb1)\n",
    "        \n",
    "        J=(1/m)*J0+(lambda_/2)*JW\n",
    "#         print(epoch)\n",
    "        \n",
    "        if epoch%50==0:\n",
    "            print(\"loss after {} epochs: \".format(epoch+1), J)\n",
    "        \n",
    "        \n",
    "        \n",
    "    return W1, b1, W2, b2, W3, b3"
   ]
  },
  {
   "cell_type": "code",
   "execution_count": 73,
   "metadata": {
    "scrolled": true
   },
   "outputs": [
    {
     "name": "stdout",
     "output_type": "stream",
     "text": [
      "loss after 1 epochs:  [[47364.18984497]]\n",
      "loss after 51 epochs:  [[46880.6705673]]\n",
      "loss after 101 epochs:  [[46741.41101371]]\n",
      "loss after 151 epochs:  [[46654.57492423]]\n",
      "loss after 201 epochs:  [[46590.56837975]]\n",
      "loss after 251 epochs:  [[46541.20381796]]\n",
      "loss after 301 epochs:  [[46502.11185738]]\n",
      "loss after 351 epochs:  [[46470.23471085]]\n",
      "loss after 401 epochs:  [[46443.36447072]]\n",
      "loss after 451 epochs:  [[46419.9384404]]\n",
      "loss after 501 epochs:  [[46398.87093376]]\n",
      "loss after 551 epochs:  [[46379.41607057]]\n",
      "loss after 601 epochs:  [[46361.06457669]]\n",
      "loss after 651 epochs:  [[46343.47000265]]\n",
      "loss after 701 epochs:  [[46326.39733704]]\n",
      "loss after 751 epochs:  [[46309.68766318]]\n",
      "loss after 801 epochs:  [[46293.233987]]\n",
      "loss after 851 epochs:  [[46276.96474383]]\n",
      "loss after 901 epochs:  [[46260.83255424]]\n",
      "loss after 951 epochs:  [[46244.80655985]]\n",
      "loss after 1001 epochs:  [[46228.86719914]]\n"
     ]
    }
   ],
   "source": [
    "W1, b1, W2, b2, W3, b3 = MLP_4layers(X_train, y_train, epochs=1001, lambda_ =0.01, learning_rate=1e-4)"
   ]
  },
  {
   "cell_type": "code",
   "execution_count": 74,
   "metadata": {},
   "outputs": [],
   "source": [
    "def predict_4layer(X, W1, b1, W2, b2, W3, b3 ):\n",
    "    ans=[]\n",
    "    for i in range(len(X)):\n",
    "        z2=np.dot(W1, X[i].reshape(-1,1))+b1\n",
    "\n",
    "        a2=tangent(z2)\n",
    "        z3=np.dot(W2,a2)+b2 \n",
    "        a3=tangent(z3)\n",
    "        z4=np.dot(W3,a3)+b3 \n",
    "#             a4=leaky_rectified_linear(z4)\n",
    "        a4=z4\n",
    "        ans.append(a4)\n",
    "    \n",
    "    return ans"
   ]
  },
  {
   "cell_type": "code",
   "execution_count": 75,
   "metadata": {},
   "outputs": [],
   "source": [
    "y_pred=predict_4layer(X_test, W1, b1, W2, b2, W3, b3 )"
   ]
  },
  {
   "cell_type": "code",
   "execution_count": 76,
   "metadata": {},
   "outputs": [
    {
     "data": {
      "text/plain": [
       "-249.3073398984007"
      ]
     },
     "execution_count": 76,
     "metadata": {},
     "output_type": "execute_result"
    }
   ],
   "source": [
    "r2_score(y_test,y_pred)"
   ]
  },
  {
   "cell_type": "code",
   "execution_count": 77,
   "metadata": {},
   "outputs": [
    {
     "data": {
      "text/plain": [
       "[array([[0.74998576]]),\n",
       " array([[-0.02164332]]),\n",
       " array([[1.02363011]]),\n",
       " array([[0.82261119]]),\n",
       " array([[1.03822589]]),\n",
       " array([[0.76155433]]),\n",
       " array([[0.11802498]]),\n",
       " array([[0.40600811]]),\n",
       " array([[1.01027174]]),\n",
       " array([[0.57107044]]),\n",
       " array([[0.67417695]]),\n",
       " array([[0.16419189]]),\n",
       " array([[1.05259261]]),\n",
       " array([[0.50443318]]),\n",
       " array([[-0.00051052]]),\n",
       " array([[0.52660541]]),\n",
       " array([[0.63602196]]),\n",
       " array([[1.05409934]]),\n",
       " array([[0.56736764]]),\n",
       " array([[0.1937617]]),\n",
       " array([[0.93269558]]),\n",
       " array([[0.99273354]]),\n",
       " array([[0.17619117]]),\n",
       " array([[1.02259744]]),\n",
       " array([[1.03625876]]),\n",
       " array([[-0.07338674]]),\n",
       " array([[0.19435837]]),\n",
       " array([[0.91324946]]),\n",
       " array([[1.04577826]]),\n",
       " array([[-0.05110444]]),\n",
       " array([[1.05435802]]),\n",
       " array([[0.32825367]]),\n",
       " array([[0.50808015]]),\n",
       " array([[0.82408166]]),\n",
       " array([[0.73526562]]),\n",
       " array([[-0.07831741]]),\n",
       " array([[0.011312]]),\n",
       " array([[0.98041834]]),\n",
       " array([[0.28478198]]),\n",
       " array([[0.81033677]]),\n",
       " array([[0.04744151]]),\n",
       " array([[-0.03734967]]),\n",
       " array([[0.99151424]]),\n",
       " array([[0.71866418]]),\n",
       " array([[0.96464968]]),\n",
       " array([[0.99268489]]),\n",
       " array([[0.97926302]]),\n",
       " array([[0.1621995]]),\n",
       " array([[0.57505529]]),\n",
       " array([[0.63753914]]),\n",
       " array([[1.03125512]]),\n",
       " array([[0.98141737]]),\n",
       " array([[0.94946336]]),\n",
       " array([[0.93732254]]),\n",
       " array([[1.0382711]]),\n",
       " array([[0.96088025]]),\n",
       " array([[0.62111065]]),\n",
       " array([[0.9394223]]),\n",
       " array([[0.98137106]]),\n",
       " array([[0.92020509]]),\n",
       " array([[0.95862648]]),\n",
       " array([[0.06104819]]),\n",
       " array([[0.98098871]]),\n",
       " array([[0.69716297]]),\n",
       " array([[0.87767346]]),\n",
       " array([[0.81034515]]),\n",
       " array([[0.16539026]]),\n",
       " array([[0.88968801]]),\n",
       " array([[0.96063538]]),\n",
       " array([[0.05946454]]),\n",
       " array([[0.06364327]]),\n",
       " array([[0.57239179]]),\n",
       " array([[1.04846597]]),\n",
       " array([[0.92311262]]),\n",
       " array([[0.09179441]]),\n",
       " array([[0.77741287]]),\n",
       " array([[1.0496085]]),\n",
       " array([[-0.04712447]]),\n",
       " array([[0.78648395]]),\n",
       " array([[0.20800997]]),\n",
       " array([[0.92057278]]),\n",
       " array([[-0.04758214]]),\n",
       " array([[1.00805655]]),\n",
       " array([[0.93615898]]),\n",
       " array([[1.00294071]]),\n",
       " array([[0.9517144]]),\n",
       " array([[0.04924387]]),\n",
       " array([[0.53679735]]),\n",
       " array([[0.24193785]]),\n",
       " array([[-0.07360862]]),\n",
       " array([[0.57505735]]),\n",
       " array([[0.71071021]]),\n",
       " array([[0.18093796]]),\n",
       " array([[0.22713183]]),\n",
       " array([[0.55264781]]),\n",
       " array([[0.08310326]]),\n",
       " array([[0.18075027]]),\n",
       " array([[0.1293142]]),\n",
       " array([[1.04304881]]),\n",
       " array([[0.97220326]]),\n",
       " array([[0.67254754]]),\n",
       " array([[0.66889632]]),\n",
       " array([[0.77013581]]),\n",
       " array([[0.01528903]]),\n",
       " array([[0.51791922]]),\n",
       " array([[0.09266126]]),\n",
       " array([[0.11985369]]),\n",
       " array([[0.53507825]]),\n",
       " array([[0.01834617]]),\n",
       " array([[0.98147499]]),\n",
       " array([[0.94477655]]),\n",
       " array([[0.87177936]]),\n",
       " array([[0.28985385]]),\n",
       " array([[0.02179189]]),\n",
       " array([[0.00839211]]),\n",
       " array([[0.25641697]]),\n",
       " array([[0.43142899]]),\n",
       " array([[0.0271401]]),\n",
       " array([[0.94680585]]),\n",
       " array([[1.047259]]),\n",
       " array([[-0.07338441]]),\n",
       " array([[0.68279572]]),\n",
       " array([[1.04502057]]),\n",
       " array([[1.04895123]]),\n",
       " array([[0.95194091]]),\n",
       " array([[1.02385326]]),\n",
       " array([[-0.02656806]]),\n",
       " array([[0.41068083]]),\n",
       " array([[1.03705432]]),\n",
       " array([[1.00200416]]),\n",
       " array([[-0.08130266]]),\n",
       " array([[0.03497859]]),\n",
       " array([[0.29652892]]),\n",
       " array([[0.69240839]]),\n",
       " array([[0.97033589]]),\n",
       " array([[0.76167519]]),\n",
       " array([[0.01870485]]),\n",
       " array([[1.0537258]]),\n",
       " array([[1.01974247]]),\n",
       " array([[0.95712594]]),\n",
       " array([[0.97367133]]),\n",
       " array([[0.5561548]]),\n",
       " array([[0.93533263]]),\n",
       " array([[0.09283877]]),\n",
       " array([[1.01048553]]),\n",
       " array([[0.4896731]]),\n",
       " array([[0.91635301]]),\n",
       " array([[0.98840959]]),\n",
       " array([[1.05059654]]),\n",
       " array([[0.77684722]]),\n",
       " array([[-0.07134838]]),\n",
       " array([[1.03973354]]),\n",
       " array([[1.00176578]]),\n",
       " array([[0.02398719]]),\n",
       " array([[0.50399304]]),\n",
       " array([[0.68713204]]),\n",
       " array([[0.01733869]]),\n",
       " array([[1.01009883]]),\n",
       " array([[0.01863892]]),\n",
       " array([[-0.08213201]]),\n",
       " array([[0.97691378]]),\n",
       " array([[0.76776421]]),\n",
       " array([[0.01270937]]),\n",
       " array([[0.31855406]]),\n",
       " array([[-0.03099415]]),\n",
       " array([[0.85464214]]),\n",
       " array([[0.99610134]]),\n",
       " array([[1.01056522]]),\n",
       " array([[0.99045643]]),\n",
       " array([[0.11691771]]),\n",
       " array([[0.58742066]]),\n",
       " array([[0.55009422]]),\n",
       " array([[0.89216829]]),\n",
       " array([[0.17876427]]),\n",
       " array([[0.9268527]]),\n",
       " array([[0.55009946]]),\n",
       " array([[0.67745572]]),\n",
       " array([[0.05915373]]),\n",
       " array([[0.87615111]]),\n",
       " array([[0.16766902]]),\n",
       " array([[-0.08484513]]),\n",
       " array([[0.63013972]]),\n",
       " array([[0.01511826]]),\n",
       " array([[1.04310537]]),\n",
       " array([[0.84295495]]),\n",
       " array([[1.05222179]]),\n",
       " array([[0.38901115]]),\n",
       " array([[1.02844005]]),\n",
       " array([[-0.0706675]]),\n",
       " array([[0.99990247]]),\n",
       " array([[0.93056462]]),\n",
       " array([[0.99749144]]),\n",
       " array([[0.99393556]]),\n",
       " array([[1.05257218]]),\n",
       " array([[0.04472962]]),\n",
       " array([[0.02873469]]),\n",
       " array([[0.17839248]]),\n",
       " array([[1.05245045]]),\n",
       " array([[0.06320314]]),\n",
       " array([[-0.06922498]]),\n",
       " array([[-0.01161555]]),\n",
       " array([[0.90864263]]),\n",
       " array([[0.38307536]]),\n",
       " array([[0.66274506]]),\n",
       " array([[1.03375759]]),\n",
       " array([[0.96907068]]),\n",
       " array([[0.07471793]]),\n",
       " array([[-0.08476839]]),\n",
       " array([[0.7679911]]),\n",
       " array([[0.68362255]]),\n",
       " array([[-0.06256109]]),\n",
       " array([[0.88264985]]),\n",
       " array([[0.70263529]]),\n",
       " array([[-0.03221227]]),\n",
       " array([[0.80422295]]),\n",
       " array([[0.41124872]]),\n",
       " array([[0.82628026]]),\n",
       " array([[0.14231852]]),\n",
       " array([[-0.07818912]]),\n",
       " array([[0.3593534]]),\n",
       " array([[1.04042371]]),\n",
       " array([[1.04462134]]),\n",
       " array([[-0.07150435]]),\n",
       " array([[0.39991667]]),\n",
       " array([[0.26528116]]),\n",
       " array([[0.35896882]]),\n",
       " array([[0.91722463]]),\n",
       " array([[1.04885459]]),\n",
       " array([[0.53989169]]),\n",
       " array([[0.86151469]]),\n",
       " array([[-0.07679908]]),\n",
       " array([[-0.01476435]]),\n",
       " array([[-0.05057896]]),\n",
       " array([[-0.02879064]]),\n",
       " array([[0.99177622]]),\n",
       " array([[1.04338743]]),\n",
       " array([[0.94161684]]),\n",
       " array([[-0.04611377]]),\n",
       " array([[0.86102777]]),\n",
       " array([[0.6637109]]),\n",
       " array([[1.04051528]]),\n",
       " array([[0.95120117]]),\n",
       " array([[-0.0309862]]),\n",
       " array([[0.17758873]]),\n",
       " array([[0.36177973]]),\n",
       " array([[0.87350886]]),\n",
       " array([[0.99367444]]),\n",
       " array([[0.5239105]]),\n",
       " array([[0.73052223]]),\n",
       " array([[0.57538077]])]"
      ]
     },
     "execution_count": 77,
     "metadata": {},
     "output_type": "execute_result"
    }
   ],
   "source": [
    "y_pred"
   ]
  },
  {
   "cell_type": "code",
   "execution_count": 78,
   "metadata": {},
   "outputs": [
    {
     "data": {
      "text/plain": [
       "array([-253.05985268,   18.97523909,   37.81213684,  -14.88623286,\n",
       "        206.18505098,   -1.36268679,   -4.16039394,  -38.10569868,\n",
       "        191.26480967,   18.24059751,  215.37973139,   96.69451153,\n",
       "        578.34731328,   53.72826949, -146.05187323,   13.47618899,\n",
       "       -153.38589681,  219.75062031, -118.58664411,  316.44531338,\n",
       "        -88.76081405,  170.38205654, -249.97854404,  -86.58175428,\n",
       "        -95.35435497,  -24.4516394 ,    1.12659645,   91.73337799,\n",
       "        413.69894639,   89.5235367 ,  -61.47186557, -352.32932266,\n",
       "        -90.47198422,  161.47548016,  -50.25507961, -394.50346997,\n",
       "       -383.98753584, -160.21886979,   -4.85207633,  139.93263003,\n",
       "       -138.45155543, -208.6001872 ,  154.31458275,  -83.0083049 ,\n",
       "        105.7179178 ,  346.42303848, -143.94560538,  -44.10121947,\n",
       "       -366.45896839,  149.36646353,  201.63963933, -186.77605718,\n",
       "       -286.45715458,  -12.05426261,  -35.41070325,  -63.70189217,\n",
       "         83.71082528,  357.25842752,   38.74520473,  -78.13046995,\n",
       "        190.81416791, -435.85474083,   -7.55730029, -338.32822611,\n",
       "        -69.81976006,  -24.30424949,  -64.10764907,   80.49587295,\n",
       "         60.99371896,  122.30109581, -280.98049392,  110.99306649,\n",
       "       -297.31689009, -145.44372578, -289.87684685,  163.18747329,\n",
       "        459.75661141,   -8.74371503,  -53.55257449, -102.78233315,\n",
       "         43.32795481, -149.85850003,    3.88818247, -138.69103752,\n",
       "         26.04610122,  179.35286895,  234.92000801,  -24.33577544,\n",
       "        466.42466085, -214.10058871,  -11.06492199,   66.37829083,\n",
       "       -273.30884389,  395.09175944, -152.28108828, -184.396389  ,\n",
       "       -108.87773717,   16.34344967,   71.16921954,  -56.17417602,\n",
       "       -138.14401152, -284.08840535,  170.53805431,  348.93481392,\n",
       "         -4.89834001,  -39.77772588,  144.23578393,  -18.88910753,\n",
       "        127.92199259,   62.15224625,  173.04142907,  559.51526976,\n",
       "       -236.47065257, -369.74313026, -162.96428999,  156.14144516,\n",
       "       -273.37105055, -206.60565454,  147.84533269,  196.84508335,\n",
       "        291.80843664,  170.49540891, -156.82254251,  535.27529605,\n",
       "       -128.12618606, -133.06506403,  137.55101551, -109.22870769,\n",
       "        288.81338938,   40.70961837, -123.5031516 , -428.78036373,\n",
       "       -350.16570657,  133.87741722, -217.94432253,  213.54344758,\n",
       "       -169.4673889 , -100.8236527 ,  316.20422648,   76.98759806,\n",
       "        241.29607091, -121.5217152 ,  352.48056818,   35.59614544,\n",
       "        345.99824164,  268.50152616,  131.07115298,  407.75485122,\n",
       "        163.6368872 ,  -66.13697817,  -36.87287065,  250.71151877,\n",
       "        170.63936472, -112.61366184,   43.6376739 ,   86.27902424,\n",
       "       -466.17045714, -188.17661733,  -84.39645111,   21.6302028 ,\n",
       "       -250.86050738, -516.76062424,   74.27237464, -198.9438617 ,\n",
       "        196.93857899, -113.65729206,  131.16399268,   31.91863691,\n",
       "        185.22024133,   62.97395405,  256.1004501 ,  -94.46273498,\n",
       "        219.52249124, -186.72491266,  -55.22129464,    9.50164495,\n",
       "       -351.50835628, -241.71297417,  189.87289473, -224.00001548,\n",
       "       -420.3624327 ,  -54.56662027,   45.27374904,  153.82859517,\n",
       "       -202.58532086,   43.78509695, -311.78324907,  224.7899088 ,\n",
       "        -66.42208978,  223.16241639,  -42.96723995, -251.57293322,\n",
       "        -37.44108584,  615.45051813, -283.21901047, -280.62867815,\n",
       "       -259.84145732,   58.07074372, -168.29199692,  146.2029345 ,\n",
       "          7.00096226,  247.03928234,  -83.58176379,  -18.78409102,\n",
       "        579.67085668,  192.86988202,  -90.55426596,  239.56187379,\n",
       "        128.37087194,  102.65388578,  126.54204505,  -33.84737084,\n",
       "       -157.0497063 , -218.30665776,  281.60605377,   29.9212107 ,\n",
       "         15.98597356,  -90.49219892, -436.35865451, -276.09092237,\n",
       "        327.07596891,  120.26153168, -433.21343868,  398.18134237,\n",
       "         73.80150757, -197.57379977,   19.95386128,    6.53060659,\n",
       "         98.84179796,  -88.65915614, -159.20961417,  -94.50098825,\n",
       "        211.00073892,  -24.67467045,  111.51444866,  464.16751965,\n",
       "        138.05548321, -302.69568661,   48.88056912,  201.14961448,\n",
       "        421.95368738,  269.15372728,  126.59326756,  235.80478323,\n",
       "        -31.75529435, -223.25529447,  114.37136858,  -24.43840156,\n",
       "        -83.70516277,  105.34316407])"
      ]
     },
     "execution_count": 78,
     "metadata": {},
     "output_type": "execute_result"
    }
   ],
   "source": [
    "y_test"
   ]
  },
  {
   "cell_type": "code",
   "execution_count": null,
   "metadata": {},
   "outputs": [],
   "source": []
  }
 ],
 "metadata": {
  "kernelspec": {
   "display_name": "Python 3",
   "language": "python",
   "name": "python3"
  },
  "language_info": {
   "codemirror_mode": {
    "name": "ipython",
    "version": 3
   },
   "file_extension": ".py",
   "mimetype": "text/x-python",
   "name": "python",
   "nbconvert_exporter": "python",
   "pygments_lexer": "ipython3",
   "version": "3.7.7"
  }
 },
 "nbformat": 4,
 "nbformat_minor": 4
}
