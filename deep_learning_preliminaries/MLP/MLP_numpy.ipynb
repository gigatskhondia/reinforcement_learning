{
 "cells": [
  {
   "cell_type": "code",
   "execution_count": 1,
   "metadata": {},
   "outputs": [],
   "source": [
    "from sklearn.datasets import make_regression"
   ]
  },
  {
   "cell_type": "code",
   "execution_count": 2,
   "metadata": {},
   "outputs": [],
   "source": [
    "import numpy as np"
   ]
  },
  {
   "cell_type": "code",
   "execution_count": 3,
   "metadata": {},
   "outputs": [],
   "source": [
    "from sklearn.model_selection import train_test_split"
   ]
  },
  {
   "cell_type": "code",
   "execution_count": 4,
   "metadata": {},
   "outputs": [],
   "source": [
    "# http://ufldl.stanford.edu/tutorial/supervised/MultiLayerNeuralNetworks/"
   ]
  },
  {
   "cell_type": "markdown",
   "metadata": {},
   "source": [
    "### Generate data"
   ]
  },
  {
   "cell_type": "code",
   "execution_count": 5,
   "metadata": {},
   "outputs": [],
   "source": [
    "rng = np.random.RandomState(0)"
   ]
  },
  {
   "cell_type": "code",
   "execution_count": 6,
   "metadata": {},
   "outputs": [],
   "source": [
    "n_samples, n_features = 1000, 20"
   ]
  },
  {
   "cell_type": "code",
   "execution_count": 7,
   "metadata": {},
   "outputs": [],
   "source": [
    "X, y = make_regression(n_samples, n_features, random_state=rng)"
   ]
  },
  {
   "cell_type": "code",
   "execution_count": 8,
   "metadata": {},
   "outputs": [],
   "source": [
    "X_train, X_test, y_train, y_test = train_test_split(X, y, random_state=rng)"
   ]
  },
  {
   "cell_type": "markdown",
   "metadata": {},
   "source": [
    "### Baseline"
   ]
  },
  {
   "cell_type": "code",
   "execution_count": 9,
   "metadata": {},
   "outputs": [],
   "source": [
    "from sklearn.linear_model import Lasso"
   ]
  },
  {
   "cell_type": "code",
   "execution_count": 10,
   "metadata": {},
   "outputs": [],
   "source": [
    "reg = Lasso()"
   ]
  },
  {
   "cell_type": "code",
   "execution_count": 11,
   "metadata": {},
   "outputs": [
    {
     "data": {
      "text/plain": [
       "Lasso(alpha=1.0, copy_X=True, fit_intercept=True, max_iter=1000,\n",
       "      normalize=False, positive=False, precompute=False, random_state=None,\n",
       "      selection='cyclic', tol=0.0001, warm_start=False)"
      ]
     },
     "execution_count": 11,
     "metadata": {},
     "output_type": "execute_result"
    }
   ],
   "source": [
    "reg.fit(X_train, y_train)"
   ]
  },
  {
   "cell_type": "code",
   "execution_count": 12,
   "metadata": {},
   "outputs": [
    {
     "name": "stdout",
     "output_type": "stream",
     "text": [
      "0.9997358820015075\n"
     ]
    }
   ],
   "source": [
    "print(reg.score(X_test, y_test))"
   ]
  },
  {
   "cell_type": "code",
   "execution_count": 13,
   "metadata": {},
   "outputs": [],
   "source": [
    "y_pred=reg.predict(X_test)"
   ]
  },
  {
   "cell_type": "code",
   "execution_count": 14,
   "metadata": {},
   "outputs": [],
   "source": [
    "def r2_score(y_test,y_pred):\n",
    "    u = ((y_test - y_pred) ** 2).sum()\n",
    "    v = ((y_test - y_test.mean()) ** 2).sum()\n",
    "    score = (1 - u/v)\n",
    "    return score"
   ]
  },
  {
   "cell_type": "code",
   "execution_count": 15,
   "metadata": {},
   "outputs": [
    {
     "data": {
      "text/plain": [
       "0.9997358820015074"
      ]
     },
     "execution_count": 15,
     "metadata": {},
     "output_type": "execute_result"
    }
   ],
   "source": [
    "r2_score(y_test,y_pred)"
   ]
  },
  {
   "cell_type": "markdown",
   "metadata": {},
   "source": [
    "### MLP"
   ]
  },
  {
   "cell_type": "code",
   "execution_count": 16,
   "metadata": {},
   "outputs": [],
   "source": [
    "def sigmoid(z):\n",
    "    return 1/(1+np.exp(-z))"
   ]
  },
  {
   "cell_type": "code",
   "execution_count": 17,
   "metadata": {},
   "outputs": [],
   "source": [
    "def tangent(z):\n",
    "    return (np.exp(z)-np.exp(-z))/(np.exp(z)+np.exp(-z))"
   ]
  },
  {
   "cell_type": "code",
   "execution_count": 222,
   "metadata": {},
   "outputs": [],
   "source": [
    "def leaky_rectified_linear(z):\n",
    "    return z if z > 0 else 0.01*z"
   ]
  },
  {
   "cell_type": "code",
   "execution_count": 263,
   "metadata": {},
   "outputs": [],
   "source": [
    "def MLP_3layers(X, y, epochs = 1000, lambda_ = 5e-7, learning_rate=1e-3, units_l2=5, units_l3=1):\n",
    "    \n",
    "    \n",
    "    W1=np.random.rand(X.shape[1],units_l2)* 0.1\n",
    "    b1=np.zeros((units_l2,1))\n",
    "      \n",
    "    W2=np.random.rand(W1.shape[1], X[0].reshape(-1,1).shape[1])* 0.1\n",
    "    b2=np.zeros((units_l3,1))\n",
    "    \n",
    "    m=len(X)\n",
    "      \n",
    "    for epoch in range(epochs):\n",
    "        \n",
    "        \n",
    "        J0=0\n",
    "        JW=0\n",
    "        delW1=np.zeros((X.shape[1],units_l2))\n",
    "        delb1=np.zeros((units_l2,1))\n",
    "        delW2=np.zeros((W1.shape[1], X[0].reshape(-1,1).shape[1]))\n",
    "        delb2=np.zeros((units_l3,1))\n",
    "        \n",
    "        for i in range(m):\n",
    "            \n",
    "            # forward\n",
    "            z2=np.dot(W1.T, X[i].reshape(-1,1))+b1\n",
    "\n",
    "            a2=tangent(z2)\n",
    "            z3=np.dot(W2.T,a2)+b2 \n",
    "\n",
    "            a3=leaky_rectified_linear(z3)\n",
    "#             a3=z3\n",
    "    \n",
    "            J0+=(a3-y[i])**2\n",
    "            JW+=W1.sum(axis=1).sum(axis=0)**2+W2.sum(axis=1).sum(axis=0)**2\n",
    "            \n",
    "            # backward\n",
    "            delta3=-(y[i]-a3)*a3*(1-a3)\n",
    "            delta2=np.dot(W2,delta3)*a2*(1-a2)\n",
    "            \n",
    "            derivW2=np.dot(delta3,a2.T)\n",
    "            derivb2=a3\n",
    "            \n",
    "            derivW1=np.dot(delta2,X[i].reshape(-1,1).T)\n",
    "            derivb1=a2\n",
    "            \n",
    "            delW2=delW2+derivW2.T\n",
    "            delb2=delb2+derivb2\n",
    "\n",
    "            delW1=delW1+derivW1.T\n",
    "            delb1=delb1+derivb1\n",
    "\n",
    "            \n",
    "        W2=W2-learning_rate*(1/m*delW2+lambda_*W2)     \n",
    "        b2=b2-learning_rate*(1/m*delb2)\n",
    "\n",
    "        W1=W1-learning_rate*(1/m*delW1+lambda_*W1)     \n",
    "        b1=b1-learning_rate*(1/m*delb1)\n",
    "        \n",
    "        J=(1/m)*J0+(lambda_/2)*JW\n",
    "#         print(epoch)\n",
    "        \n",
    "        if epoch%50==0:\n",
    "            print(\"loss after {} epochs: \".format(epoch+1), J)\n",
    "        \n",
    "        \n",
    "        \n",
    "    return W1, b1, W2, b2"
   ]
  },
  {
   "cell_type": "code",
   "execution_count": 264,
   "metadata": {},
   "outputs": [
    {
     "name": "stdout",
     "output_type": "stream",
     "text": [
      "loss after 1 epochs:  [[44858.76230319]]\n",
      "loss after 51 epochs:  [[44835.56760142]]\n",
      "loss after 101 epochs:  [[44785.10196028]]\n",
      "loss after 151 epochs:  [[44763.43369937]]\n",
      "loss after 201 epochs:  [[44757.91098124]]\n",
      "loss after 251 epochs:  [[44754.35172879]]\n",
      "loss after 301 epochs:  [[44751.58317465]]\n",
      "loss after 351 epochs:  [[44748.89623994]]\n",
      "loss after 401 epochs:  [[44746.11701713]]\n",
      "loss after 451 epochs:  [[44743.11196892]]\n",
      "loss after 501 epochs:  [[44739.88927657]]\n",
      "loss after 551 epochs:  [[44736.53614766]]\n",
      "loss after 601 epochs:  [[44733.14461467]]\n",
      "loss after 651 epochs:  [[44729.96025862]]\n",
      "loss after 701 epochs:  [[44727.13874249]]\n",
      "loss after 751 epochs:  [[44724.67218502]]\n",
      "loss after 801 epochs:  [[44722.46303927]]\n",
      "loss after 851 epochs:  [[44720.44923949]]\n",
      "loss after 901 epochs:  [[44718.602591]]\n",
      "loss after 951 epochs:  [[44716.89338499]]\n"
     ]
    }
   ],
   "source": [
    "W1, b1, W2, b2= MLP_3layers(X_train, y_train, epochs=1000)"
   ]
  },
  {
   "cell_type": "code",
   "execution_count": 265,
   "metadata": {},
   "outputs": [],
   "source": [
    "def predict_3layer(X, W1, b1, W2, b2):\n",
    "    ans=[]\n",
    "    for i in range(len(X)):\n",
    "        z2=np.dot(W1.T, X[i].reshape(-1,1))+b1\n",
    "        a2=tangent(z2)\n",
    "        z3=np.dot(W2.T,a2)+b2 \n",
    "        a3=leaky_rectified_linear(z3)\n",
    "        ans.append(a3)\n",
    "    \n",
    "    return ans"
   ]
  },
  {
   "cell_type": "code",
   "execution_count": 266,
   "metadata": {},
   "outputs": [],
   "source": [
    "y_pred=predict_3layer(X, W1, b1, W2, b2)"
   ]
  },
  {
   "cell_type": "code",
   "execution_count": 267,
   "metadata": {},
   "outputs": [
    {
     "data": {
      "text/plain": [
       "-1000.3069766131155"
      ]
     },
     "execution_count": 267,
     "metadata": {},
     "output_type": "execute_result"
    }
   ],
   "source": [
    "r2_score(y_test,y_pred)"
   ]
  },
  {
   "cell_type": "code",
   "execution_count": null,
   "metadata": {},
   "outputs": [],
   "source": []
  }
 ],
 "metadata": {
  "kernelspec": {
   "display_name": "Python 3",
   "language": "python",
   "name": "python3"
  },
  "language_info": {
   "codemirror_mode": {
    "name": "ipython",
    "version": 3
   },
   "file_extension": ".py",
   "mimetype": "text/x-python",
   "name": "python",
   "nbconvert_exporter": "python",
   "pygments_lexer": "ipython3",
   "version": "3.7.7"
  }
 },
 "nbformat": 4,
 "nbformat_minor": 4
}
