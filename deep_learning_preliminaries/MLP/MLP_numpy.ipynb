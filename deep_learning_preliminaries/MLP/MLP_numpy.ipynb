{
 "cells": [
  {
   "cell_type": "code",
   "execution_count": 1,
   "metadata": {},
   "outputs": [],
   "source": [
    "from sklearn.datasets import make_regression"
   ]
  },
  {
   "cell_type": "code",
   "execution_count": 2,
   "metadata": {},
   "outputs": [],
   "source": [
    "import numpy as np"
   ]
  },
  {
   "cell_type": "code",
   "execution_count": 3,
   "metadata": {},
   "outputs": [],
   "source": [
    "from sklearn.model_selection import train_test_split"
   ]
  },
  {
   "cell_type": "code",
   "execution_count": 4,
   "metadata": {},
   "outputs": [],
   "source": [
    "# http://ufldl.stanford.edu/tutorial/supervised/MultiLayerNeuralNetworks/"
   ]
  },
  {
   "cell_type": "markdown",
   "metadata": {},
   "source": [
    "### Generate data"
   ]
  },
  {
   "cell_type": "code",
   "execution_count": 5,
   "metadata": {},
   "outputs": [],
   "source": [
    "rng = np.random.RandomState(0)"
   ]
  },
  {
   "cell_type": "code",
   "execution_count": 6,
   "metadata": {},
   "outputs": [],
   "source": [
    "n_samples, n_features = 1000, 20"
   ]
  },
  {
   "cell_type": "code",
   "execution_count": 7,
   "metadata": {},
   "outputs": [],
   "source": [
    "X, y = make_regression(n_samples, n_features, random_state=rng)"
   ]
  },
  {
   "cell_type": "code",
   "execution_count": 8,
   "metadata": {},
   "outputs": [],
   "source": [
    "X_train, X_test, y_train, y_test = train_test_split(X, y, random_state=rng)"
   ]
  },
  {
   "cell_type": "markdown",
   "metadata": {},
   "source": [
    "### Baseline"
   ]
  },
  {
   "cell_type": "code",
   "execution_count": 9,
   "metadata": {},
   "outputs": [],
   "source": [
    "from sklearn.linear_model import Lasso, Ridge"
   ]
  },
  {
   "cell_type": "code",
   "execution_count": 10,
   "metadata": {},
   "outputs": [],
   "source": [
    "# reg = Lasso()\n",
    "reg = Ridge(alpha=.5)"
   ]
  },
  {
   "cell_type": "code",
   "execution_count": 11,
   "metadata": {},
   "outputs": [
    {
     "data": {
      "text/plain": [
       "Ridge(alpha=0.5, copy_X=True, fit_intercept=True, max_iter=None,\n",
       "      normalize=False, random_state=None, solver='auto', tol=0.001)"
      ]
     },
     "execution_count": 11,
     "metadata": {},
     "output_type": "execute_result"
    }
   ],
   "source": [
    "reg.fit(X_train, y_train)"
   ]
  },
  {
   "cell_type": "code",
   "execution_count": 12,
   "metadata": {},
   "outputs": [
    {
     "name": "stdout",
     "output_type": "stream",
     "text": [
      "0.999999399117411\n"
     ]
    }
   ],
   "source": [
    "print(reg.score(X_test, y_test))"
   ]
  },
  {
   "cell_type": "code",
   "execution_count": 13,
   "metadata": {},
   "outputs": [],
   "source": [
    "y_pred=reg.predict(X_test)"
   ]
  },
  {
   "cell_type": "code",
   "execution_count": 14,
   "metadata": {},
   "outputs": [],
   "source": [
    "def r2_score(y_test,y_pred):\n",
    "    u = ((y_test - y_pred) ** 2).sum()\n",
    "    v = ((y_test - y_test.mean()) ** 2).sum()\n",
    "    score = (1 - u/v)\n",
    "    return score"
   ]
  },
  {
   "cell_type": "code",
   "execution_count": 15,
   "metadata": {},
   "outputs": [
    {
     "data": {
      "text/plain": [
       "0.9999993991174111"
      ]
     },
     "execution_count": 15,
     "metadata": {},
     "output_type": "execute_result"
    }
   ],
   "source": [
    "r2_score(y_test,y_pred)"
   ]
  },
  {
   "cell_type": "code",
   "execution_count": 16,
   "metadata": {},
   "outputs": [],
   "source": [
    "from sklearn.metrics import mean_squared_error"
   ]
  },
  {
   "cell_type": "code",
   "execution_count": 17,
   "metadata": {},
   "outputs": [
    {
     "data": {
      "text/plain": [
       "0.027717268116372908"
      ]
     },
     "execution_count": 17,
     "metadata": {},
     "output_type": "execute_result"
    }
   ],
   "source": [
    "mean_squared_error(y_test,y_pred)"
   ]
  },
  {
   "cell_type": "markdown",
   "metadata": {},
   "source": [
    "### MLP"
   ]
  },
  {
   "cell_type": "code",
   "execution_count": 18,
   "metadata": {},
   "outputs": [],
   "source": [
    "# mu =  X_train.mean(0)\n",
    "# std = X_train.std(0)\n",
    "# X_train = np.divide(X_train - mu, std)\n",
    "# X_test=np.divide(X_test - mu, std)"
   ]
  },
  {
   "cell_type": "code",
   "execution_count": 19,
   "metadata": {},
   "outputs": [],
   "source": [
    "def sigmoid(z):\n",
    "    return 1/(1+np.exp(-z))"
   ]
  },
  {
   "cell_type": "code",
   "execution_count": 20,
   "metadata": {},
   "outputs": [],
   "source": [
    "def tangent(z):\n",
    "    return (np.exp(z)-np.exp(-z))/(np.exp(z)+np.exp(-z))"
   ]
  },
  {
   "cell_type": "code",
   "execution_count": 21,
   "metadata": {},
   "outputs": [],
   "source": [
    "def leaky_rectified_linear(z):\n",
    "    return z if z > 0 else 0.01*z"
   ]
  },
  {
   "cell_type": "code",
   "execution_count": 22,
   "metadata": {},
   "outputs": [],
   "source": [
    "def rectified_linear(z):\n",
    "    return np.maximum(0,z)"
   ]
  },
  {
   "cell_type": "code",
   "execution_count": 23,
   "metadata": {},
   "outputs": [],
   "source": [
    "def MLP_4layers(X, y, epochs = 1000, lambda_ =0.01, learning_rate=1e-3, units_l2=15, units_l3=15, units_l4=1):\n",
    "    \n",
    "    units_l1 = X.shape[1]\n",
    "    \n",
    "    np.random.seed(0)\n",
    "    \n",
    "    W1=np.random.rand(units_l2,units_l1)*0.01\n",
    "    b1=np.zeros((units_l2,1))\n",
    "      \n",
    "    W2=np.random.rand(units_l3, units_l2)*0.01\n",
    "    b2=np.zeros((units_l3,1))\n",
    "    \n",
    "    \n",
    "    W3=np.random.rand(units_l4, units_l3)*0.01\n",
    "    b3=np.zeros((units_l4,1))\n",
    "    \n",
    "    m=len(X)\n",
    "    \n",
    "    def predict(X,W1, b1, W2, b2, W3, b3):\n",
    "        ans=[]\n",
    "        \n",
    "        for i in range(len(X)):\n",
    "            z2=np.dot(W1, X[i].reshape(-1,1))+b1\n",
    "\n",
    "            a2=tangent(z2)\n",
    "            z3=np.dot(W2,a2)+b2 \n",
    "            a3=tangent(z3)\n",
    "            z4=np.dot(W3,a3)+b3 \n",
    "            a4=z4\n",
    "            ans.append(a4)\n",
    "            \n",
    "        return ans\n",
    "        \n",
    "    for epoch in range(epochs):\n",
    "        \n",
    "        \n",
    "        J0=0\n",
    "        \n",
    "        delW1=np.zeros((units_l2,units_l1))\n",
    "        delb1=np.zeros((units_l2,1))\n",
    "        delW2=np.zeros((units_l3, units_l2))\n",
    "        delb2=np.zeros((units_l3,1))\n",
    "        delW3=np.zeros((units_l4, units_l3))\n",
    "        delb3=np.zeros((units_l4,1))\n",
    "        \n",
    "        for i in range(m):\n",
    "            \n",
    "            # forward\n",
    "            z2=np.dot(W1, X[i].reshape(-1,1))+b1\n",
    "\n",
    "            a2=tangent(z2)\n",
    "            z3=np.dot(W2,a2)+b2 \n",
    "            a3=tangent(z3)\n",
    "            z4=np.dot(W3,a3)+b3 \n",
    "#             a4=leaky_rectified_linear(z4)\n",
    "            a4=z4\n",
    "            \n",
    "            J0+=0.5*(a4-y[i])**2\n",
    "            \n",
    "            # backward\n",
    "            delta4=-(y[i]-a4)\n",
    "            delta3=np.dot(W3.T,delta4)*(1-a3**2)\n",
    "            delta2=np.dot(W2.T,delta3)*(1-a2**2)\n",
    "            \n",
    "            \n",
    "            derivW3=np.dot(delta4, a3.T)\n",
    "            derivb3=delta4\n",
    "            \n",
    "            derivW2=np.dot(delta3, a2.T)\n",
    "            derivb2=delta3\n",
    "            \n",
    "            derivW1=np.dot(delta2, X[i].reshape(-1,1).T)\n",
    "            derivb1=delta2\n",
    "            \n",
    "            delW3+=derivW3\n",
    "            delb3+=derivb3\n",
    "            \n",
    "            delW2+=derivW2\n",
    "            delb2+=derivb2\n",
    "\n",
    "            delW1+=derivW1\n",
    "            delb1+=derivb1\n",
    "\n",
    "        W3=W3-learning_rate*(1/m*delW3+lambda_*W3)     \n",
    "        b3=b3-learning_rate*(1/m*delb3)  \n",
    "        \n",
    "        W2=W2-learning_rate*(1/m*delW2+lambda_*W2)     \n",
    "        b2=b2-learning_rate*(1/m*delb2)\n",
    "\n",
    "        W1=W1-learning_rate*(1/m*delW1+lambda_*W1)     \n",
    "        b1=b1-learning_rate*(1/m*delb1)\n",
    "        \n",
    "        \n",
    "        J=(1/m)*J0+(lambda_/2)*((W1**2).sum(axis=1).sum(axis=0)\n",
    "                                +(W2**2).sum(axis=1).sum(axis=0)\n",
    "                                +(W3**2).sum(axis=1).sum(axis=0))\n",
    "        \n",
    "        if epoch%500==0:\n",
    "            print(\"loss after {} epochs: \".format(epoch+1), J)\n",
    "            y_pred=predict(X_test,W1, b1, W2, b2, W3, b3)\n",
    "            print(\"score: \", r2_score(y_test, np.concatenate(np.concatenate(np.stack(y_pred,axis=0)))))\n",
    "            print()\n",
    "        \n",
    "        \n",
    "        \n",
    "    return W1, b1, W2, b2, W3, b3"
   ]
  },
  {
   "cell_type": "code",
   "execution_count": 24,
   "metadata": {
    "scrolled": true
   },
   "outputs": [
    {
     "name": "stdout",
     "output_type": "stream",
     "text": [
      "loss after 1 epochs:  [[22435.00733134]]\n",
      "score:  -0.001418295980891049\n",
      "\n",
      "loss after 501 epochs:  [[1742.80693614]]\n",
      "score:  0.9144470018485368\n",
      "\n",
      "loss after 1001 epochs:  [[639.74958407]]\n",
      "score:  0.9690661905067783\n",
      "\n",
      "loss after 1501 epochs:  [[359.79478189]]\n",
      "score:  0.9832736883146312\n",
      "\n",
      "loss after 2001 epochs:  [[242.03815886]]\n",
      "score:  0.9888930004049797\n",
      "\n",
      "loss after 2501 epochs:  [[174.4355137]]\n",
      "score:  0.9917558933322074\n",
      "\n",
      "loss after 3001 epochs:  [[133.98314805]]\n",
      "score:  0.9936917397410251\n",
      "\n",
      "loss after 3501 epochs:  [[110.21664909]]\n",
      "score:  0.9950768460141864\n",
      "\n",
      "loss after 4001 epochs:  [[92.52777265]]\n",
      "score:  0.9958653669469345\n",
      "\n",
      "loss after 4501 epochs:  [[78.17778672]]\n",
      "score:  0.9965181403804687\n",
      "\n",
      "loss after 5001 epochs:  [[67.82179928]]\n",
      "score:  0.9970487695056517\n",
      "\n",
      "loss after 5501 epochs:  [[59.22815767]]\n",
      "score:  0.9975025422909696\n",
      "\n",
      "loss after 6001 epochs:  [[52.23581673]]\n",
      "score:  0.9978509479161983\n",
      "\n",
      "loss after 6501 epochs:  [[46.89934531]]\n",
      "score:  0.9981287716620304\n",
      "\n",
      "loss after 7001 epochs:  [[42.81860839]]\n",
      "score:  0.9983522834127821\n",
      "\n",
      "loss after 7501 epochs:  [[39.8692812]]\n",
      "score:  0.9985152561521592\n",
      "\n",
      "loss after 8001 epochs:  [[37.35597686]]\n",
      "score:  0.9986266403060459\n",
      "\n",
      "loss after 8501 epochs:  [[35.14820785]]\n",
      "score:  0.9987114923825341\n",
      "\n",
      "loss after 9001 epochs:  [[33.11367307]]\n",
      "score:  0.998780597138463\n",
      "\n",
      "loss after 9501 epochs:  [[31.51388122]]\n",
      "score:  0.9988340049578046\n",
      "\n",
      "loss after 10001 epochs:  [[30.11850799]]\n",
      "score:  0.9988774215246454\n",
      "\n",
      "loss after 10501 epochs:  [[28.80978321]]\n",
      "score:  0.9989128244182781\n",
      "\n",
      "loss after 11001 epochs:  [[27.55245934]]\n",
      "score:  0.9989437186620054\n",
      "\n",
      "loss after 11501 epochs:  [[26.37953187]]\n",
      "score:  0.9989796526800291\n",
      "\n",
      "loss after 12001 epochs:  [[25.46576777]]\n",
      "score:  0.9990028074852849\n",
      "\n",
      "loss after 12501 epochs:  [[24.65175997]]\n",
      "score:  0.9990157996319148\n",
      "\n",
      "loss after 13001 epochs:  [[23.90703146]]\n",
      "score:  0.9990284333782212\n",
      "\n",
      "loss after 13501 epochs:  [[23.23358521]]\n",
      "score:  0.9990374783163573\n",
      "\n",
      "loss after 14001 epochs:  [[22.62979962]]\n",
      "score:  0.9990405660855873\n",
      "\n",
      "loss after 14501 epochs:  [[22.09021234]]\n",
      "score:  0.9990361483563351\n",
      "\n",
      "loss after 15001 epochs:  [[21.60311057]]\n",
      "score:  0.999023391612026\n",
      "\n",
      "loss after 15501 epochs:  [[21.15519086]]\n",
      "score:  0.9990022483547644\n",
      "\n",
      "loss after 16001 epochs:  [[20.73630213]]\n",
      "score:  0.9989738019329799\n",
      "\n",
      "loss after 16501 epochs:  [[20.3409248]]\n",
      "score:  0.9989408844115854\n",
      "\n",
      "loss after 17001 epochs:  [[19.9671805]]\n",
      "score:  0.9989081192808712\n",
      "\n",
      "loss after 17501 epochs:  [[19.61090626]]\n",
      "score:  0.9988813447081238\n",
      "\n",
      "loss after 18001 epochs:  [[19.25330725]]\n",
      "score:  0.998867980748248\n",
      "\n",
      "loss after 18501 epochs:  [[18.88673189]]\n",
      "score:  0.9988718708492218\n",
      "\n",
      "loss after 19001 epochs:  [[18.54381791]]\n",
      "score:  0.9988819059012872\n",
      "\n",
      "loss after 19501 epochs:  [[18.22734474]]\n",
      "score:  0.9988872275327266\n",
      "\n",
      "loss after 20001 epochs:  [[17.94432415]]\n",
      "score:  0.998882671067041\n",
      "\n"
     ]
    }
   ],
   "source": [
    "W1, b1, W2, b2, W3, b3 = MLP_4layers(X_train, y_train, epochs=20001, lambda_ =0.0005, learning_rate=0.001)"
   ]
  },
  {
   "cell_type": "code",
   "execution_count": 25,
   "metadata": {},
   "outputs": [],
   "source": [
    "def predict_4layer(X, W1, b1, W2, b2, W3, b3 ):\n",
    "    ans=[]\n",
    "    for i in range(len(X)):\n",
    "        z2=np.dot(W1, X[i].reshape(-1,1))+b1\n",
    "\n",
    "        a2=tangent(z2)\n",
    "        z3=np.dot(W2,a2)+b2 \n",
    "        a3=tangent(z3)\n",
    "        z4=np.dot(W3,a3)+b3 \n",
    "#             a4=leaky_rectified_linear(z4)\n",
    "        a4=z4\n",
    "        ans.append(a4)\n",
    "    \n",
    "    return ans"
   ]
  },
  {
   "cell_type": "code",
   "execution_count": 26,
   "metadata": {},
   "outputs": [],
   "source": [
    "y_pred=predict_4layer(X_test, W1, b1, W2, b2, W3, b3 )"
   ]
  },
  {
   "cell_type": "code",
   "execution_count": 27,
   "metadata": {},
   "outputs": [
    {
     "data": {
      "text/plain": [
       "0.998882671067041"
      ]
     },
     "execution_count": 27,
     "metadata": {},
     "output_type": "execute_result"
    }
   ],
   "source": [
    "r2_score(y_test, np.concatenate(np.concatenate(np.stack(y_pred,axis=0))))"
   ]
  },
  {
   "cell_type": "code",
   "execution_count": 28,
   "metadata": {},
   "outputs": [
    {
     "data": {
      "text/plain": [
       "51.539695404964725"
      ]
     },
     "execution_count": 28,
     "metadata": {},
     "output_type": "execute_result"
    }
   ],
   "source": [
    "mean_squared_error(y_test, np.concatenate(np.concatenate(np.stack(y_pred,axis=0))))"
   ]
  }
 ],
 "metadata": {
  "kernelspec": {
   "display_name": "Python 3",
   "language": "python",
   "name": "python3"
  },
  "language_info": {
   "codemirror_mode": {
    "name": "ipython",
    "version": 3
   },
   "file_extension": ".py",
   "mimetype": "text/x-python",
   "name": "python",
   "nbconvert_exporter": "python",
   "pygments_lexer": "ipython3",
   "version": "3.7.7"
  }
 },
 "nbformat": 4,
 "nbformat_minor": 4
}
