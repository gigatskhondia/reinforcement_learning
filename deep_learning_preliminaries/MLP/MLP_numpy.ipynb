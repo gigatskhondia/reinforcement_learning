{
 "cells": [
  {
   "cell_type": "code",
   "execution_count": 1,
   "metadata": {},
   "outputs": [],
   "source": [
    "from sklearn.datasets import make_regression"
   ]
  },
  {
   "cell_type": "code",
   "execution_count": 2,
   "metadata": {},
   "outputs": [],
   "source": [
    "import numpy as np"
   ]
  },
  {
   "cell_type": "code",
   "execution_count": 3,
   "metadata": {},
   "outputs": [],
   "source": [
    "from sklearn.model_selection import train_test_split"
   ]
  },
  {
   "cell_type": "code",
   "execution_count": 4,
   "metadata": {},
   "outputs": [],
   "source": [
    "# http://ufldl.stanford.edu/tutorial/supervised/MultiLayerNeuralNetworks/"
   ]
  },
  {
   "cell_type": "markdown",
   "metadata": {},
   "source": [
    "### Generate data"
   ]
  },
  {
   "cell_type": "code",
   "execution_count": 5,
   "metadata": {},
   "outputs": [],
   "source": [
    "rng = np.random.RandomState(0)"
   ]
  },
  {
   "cell_type": "code",
   "execution_count": 6,
   "metadata": {},
   "outputs": [],
   "source": [
    "n_samples, n_features = 1000, 20"
   ]
  },
  {
   "cell_type": "code",
   "execution_count": 7,
   "metadata": {},
   "outputs": [],
   "source": [
    "X, y = make_regression(n_samples, n_features, random_state=rng)"
   ]
  },
  {
   "cell_type": "code",
   "execution_count": 8,
   "metadata": {},
   "outputs": [],
   "source": [
    "X_train, X_test, y_train, y_test = train_test_split(X, y, random_state=rng)"
   ]
  },
  {
   "cell_type": "markdown",
   "metadata": {},
   "source": [
    "### Baseline"
   ]
  },
  {
   "cell_type": "code",
   "execution_count": 9,
   "metadata": {},
   "outputs": [],
   "source": [
    "from sklearn.linear_model import Lasso, Ridge"
   ]
  },
  {
   "cell_type": "code",
   "execution_count": 10,
   "metadata": {},
   "outputs": [],
   "source": [
    "# reg = Lasso()\n",
    "reg = Ridge(alpha=.5)"
   ]
  },
  {
   "cell_type": "code",
   "execution_count": 11,
   "metadata": {},
   "outputs": [
    {
     "data": {
      "text/plain": [
       "Ridge(alpha=0.5, copy_X=True, fit_intercept=True, max_iter=None,\n",
       "      normalize=False, random_state=None, solver='auto', tol=0.001)"
      ]
     },
     "execution_count": 11,
     "metadata": {},
     "output_type": "execute_result"
    }
   ],
   "source": [
    "reg.fit(X_train, y_train)"
   ]
  },
  {
   "cell_type": "code",
   "execution_count": 12,
   "metadata": {},
   "outputs": [
    {
     "name": "stdout",
     "output_type": "stream",
     "text": [
      "0.999999399117411\n"
     ]
    }
   ],
   "source": [
    "print(reg.score(X_test, y_test))"
   ]
  },
  {
   "cell_type": "code",
   "execution_count": 13,
   "metadata": {},
   "outputs": [],
   "source": [
    "y_pred=reg.predict(X_test)"
   ]
  },
  {
   "cell_type": "code",
   "execution_count": 14,
   "metadata": {},
   "outputs": [],
   "source": [
    "def r2_score(y_test,y_pred):\n",
    "    u = ((y_test - y_pred) ** 2).sum()\n",
    "    v = ((y_test - y_test.mean()) ** 2).sum()\n",
    "    score = (1 - u/v)\n",
    "    return score"
   ]
  },
  {
   "cell_type": "code",
   "execution_count": 15,
   "metadata": {},
   "outputs": [
    {
     "data": {
      "text/plain": [
       "0.9999993991174111"
      ]
     },
     "execution_count": 15,
     "metadata": {},
     "output_type": "execute_result"
    }
   ],
   "source": [
    "r2_score(y_test,y_pred)"
   ]
  },
  {
   "cell_type": "code",
   "execution_count": 18,
   "metadata": {},
   "outputs": [],
   "source": [
    "from sklearn.metrics import mean_squared_error"
   ]
  },
  {
   "cell_type": "code",
   "execution_count": 19,
   "metadata": {},
   "outputs": [
    {
     "data": {
      "text/plain": [
       "0.027717268116372908"
      ]
     },
     "execution_count": 19,
     "metadata": {},
     "output_type": "execute_result"
    }
   ],
   "source": [
    "mean_squared_error(y_test,y_pred)"
   ]
  },
  {
   "cell_type": "markdown",
   "metadata": {},
   "source": [
    "### MLP"
   ]
  },
  {
   "cell_type": "code",
   "execution_count": 20,
   "metadata": {},
   "outputs": [],
   "source": [
    "# mu =  X_train.mean(0)\n",
    "# std = X_train.std(0)\n",
    "# X_train = np.divide(X_train - mu, std)\n",
    "# X_test=np.divide(X_test - mu, std)"
   ]
  },
  {
   "cell_type": "code",
   "execution_count": 21,
   "metadata": {},
   "outputs": [],
   "source": [
    "def sigmoid(z):\n",
    "    return 1/(1+np.exp(-z))"
   ]
  },
  {
   "cell_type": "code",
   "execution_count": 22,
   "metadata": {},
   "outputs": [],
   "source": [
    "def tangent(z):\n",
    "    return (np.exp(z)-np.exp(-z))/(np.exp(z)+np.exp(-z))"
   ]
  },
  {
   "cell_type": "code",
   "execution_count": 23,
   "metadata": {},
   "outputs": [],
   "source": [
    "def leaky_rectified_linear(z):\n",
    "    return z if z > 0 else 0.01*z"
   ]
  },
  {
   "cell_type": "code",
   "execution_count": 24,
   "metadata": {},
   "outputs": [],
   "source": [
    "def rectified_linear(z):\n",
    "    return np.maximum(0,z)"
   ]
  },
  {
   "cell_type": "code",
   "execution_count": 25,
   "metadata": {},
   "outputs": [],
   "source": [
    "def MLP_4layers(X, y, epochs = 1000, lambda_ =0.01, learning_rate=1e-3, units_l2=5, units_l3=5, units_l4=1):\n",
    "    \n",
    "    units_l1 = X.shape[1]\n",
    "    \n",
    "    W1=np.random.rand(units_l2,units_l1)*0.01\n",
    "    b1=np.zeros((units_l2,1))\n",
    "      \n",
    "    W2=np.random.rand(units_l3, units_l2)*0.01\n",
    "    b2=np.zeros((units_l3,1))\n",
    "    \n",
    "    \n",
    "    W3=np.random.rand(units_l4, units_l3)*0.01\n",
    "    b3=np.zeros((units_l4,1))\n",
    "    \n",
    "    m=len(X)\n",
    "    \n",
    "    def predict(X,W1, b1, W2, b2, W3, b3):\n",
    "        ans=[]\n",
    "        \n",
    "        for i in range(len(X)):\n",
    "            z2=np.dot(W1, X[i].reshape(-1,1))+b1\n",
    "\n",
    "            a2=tangent(z2)\n",
    "            z3=np.dot(W2,a2)+b2 \n",
    "            a3=tangent(z3)\n",
    "            z4=np.dot(W3,a3)+b3 \n",
    "            a4=z4\n",
    "            ans.append(a4)\n",
    "            \n",
    "        return ans\n",
    "        \n",
    "    for epoch in range(epochs):\n",
    "        \n",
    "        \n",
    "        J0=0\n",
    "        \n",
    "        delW1=np.zeros((units_l2,units_l1))\n",
    "        delb1=np.zeros((units_l2,1))\n",
    "        delW2=np.zeros((units_l3, units_l2))\n",
    "        delb2=np.zeros((units_l3,1))\n",
    "        delW3=np.zeros((units_l4, units_l3))\n",
    "        delb3=np.zeros((units_l4,1))\n",
    "        \n",
    "        for i in range(m):\n",
    "            \n",
    "            # forward\n",
    "            z2=np.dot(W1, X[i].reshape(-1,1))+b1\n",
    "\n",
    "            a2=tangent(z2)\n",
    "            z3=np.dot(W2,a2)+b2 \n",
    "            a3=tangent(z3)\n",
    "            z4=np.dot(W3,a3)+b3 \n",
    "#             a4=leaky_rectified_linear(z4)\n",
    "            a4=z4\n",
    "            \n",
    "#             print(a4)\n",
    "            J0+=0.5*(a4-y[i])**2\n",
    "            \n",
    "            # backward\n",
    "            delta4=-(y[i]-a4)\n",
    "            delta3=np.dot(W3.T,delta4)*(1-a3**2)\n",
    "            delta2=np.dot(W2.T,delta3)*(1-a2**2)\n",
    "            \n",
    "            \n",
    "            derivW3=np.dot(delta4, a3.T)\n",
    "            derivb3=delta4\n",
    "            \n",
    "            derivW2=np.dot(delta3, a2.T)\n",
    "            derivb2=delta3\n",
    "            \n",
    "            derivW1=np.dot(delta2, X[i].reshape(-1,1).T)\n",
    "            derivb1=delta2\n",
    "            \n",
    "            delW3+=derivW3\n",
    "            delb3+=derivb3\n",
    "            \n",
    "            delW2+=derivW2\n",
    "            delb2+=derivb2\n",
    "\n",
    "            delW1+=derivW1\n",
    "            delb1+=derivb1\n",
    "\n",
    "        W3=W3-learning_rate*(1/m*delW3+lambda_*W3)     \n",
    "        b3=b3-learning_rate*(1/m*delb3)  \n",
    "        \n",
    "        W2=W2-learning_rate*(1/m*delW2+lambda_*W2)     \n",
    "        b2=b2-learning_rate*(1/m*delb2)\n",
    "\n",
    "        W1=W1-learning_rate*(1/m*delW1+lambda_*W1)     \n",
    "        b1=b1-learning_rate*(1/m*delb1)\n",
    "        \n",
    "        \n",
    "#         print(W3)\n",
    "#         print(b3)\n",
    "#         print(W2)\n",
    "#         print(b2)\n",
    "#         print(W1)\n",
    "#         print(b1)\n",
    "#         print()\n",
    "        J=(1/m)*J0+(lambda_/2)*((W1**2).sum(axis=1).sum(axis=0)\n",
    "                                +(W2**2).sum(axis=1).sum(axis=0)\n",
    "                                +(W3**2).sum(axis=1).sum(axis=0))\n",
    "#         print(epoch)\n",
    "        \n",
    "        if epoch%50==0:\n",
    "            print(\"loss after {} epochs: \".format(epoch+1), J)\n",
    "            y_pred=predict(X_test,W1, b1, W2, b2, W3, b3)\n",
    "            print(\"score: \", r2_score(y_test, np.concatenate(np.concatenate(np.stack(y_pred,axis=0))) ))\n",
    "            print()\n",
    "        \n",
    "        \n",
    "        \n",
    "    return W1, b1, W2, b2, W3, b3"
   ]
  },
  {
   "cell_type": "code",
   "execution_count": 30,
   "metadata": {
    "scrolled": true
   },
   "outputs": [
    {
     "name": "stdout",
     "output_type": "stream",
     "text": [
      "loss after 1 epochs:  [[22435.02036164]]\n",
      "score:  -0.0014189433435227716\n",
      "\n",
      "loss after 51 epochs:  [[22434.12995878]]\n",
      "score:  -0.001345932054463539\n",
      "\n",
      "loss after 101 epochs:  [[22433.31812677]]\n",
      "score:  -0.0012779641004168063\n",
      "\n",
      "loss after 151 epochs:  [[22432.54279579]]\n",
      "score:  -0.0012129808944785214\n",
      "\n",
      "loss after 201 epochs:  [[22430.36105656]]\n",
      "score:  -0.001080030754541994\n",
      "\n",
      "loss after 251 epochs:  [[19192.04742395]]\n",
      "score:  0.1455105185963136\n",
      "\n",
      "loss after 301 epochs:  [[14684.36168644]]\n",
      "score:  0.34188314345427884\n",
      "\n",
      "loss after 351 epochs:  [[11781.39043941]]\n",
      "score:  0.4691311847786055\n",
      "\n",
      "loss after 401 epochs:  [[9949.10669714]]\n",
      "score:  0.5532807057360294\n",
      "\n",
      "loss after 451 epochs:  [[8475.19292712]]\n",
      "score:  0.6138365185794872\n",
      "\n",
      "loss after 501 epochs:  [[7347.40399822]]\n",
      "score:  0.6581083311982243\n",
      "\n",
      "loss after 551 epochs:  [[6446.44594391]]\n",
      "score:  0.6973453624620352\n",
      "\n",
      "loss after 601 epochs:  [[5723.85827635]]\n",
      "score:  0.730044307693495\n",
      "\n",
      "loss after 651 epochs:  [[5216.43503618]]\n",
      "score:  0.7529213584137515\n",
      "\n",
      "loss after 701 epochs:  [[4691.99824719]]\n",
      "score:  0.7803278442865572\n",
      "\n",
      "loss after 751 epochs:  [[4285.49616588]]\n",
      "score:  0.7993028313729409\n",
      "\n",
      "loss after 801 epochs:  [[3957.97414917]]\n",
      "score:  0.8141278237302887\n",
      "\n",
      "loss after 851 epochs:  [[3653.72975212]]\n",
      "score:  0.8277551434166962\n",
      "\n",
      "loss after 901 epochs:  [[3399.93509526]]\n",
      "score:  0.8393747746098337\n",
      "\n",
      "loss after 951 epochs:  [[3166.99141949]]\n",
      "score:  0.8492905849560569\n",
      "\n",
      "loss after 1001 epochs:  [[2998.01456088]]\n",
      "score:  0.8555519191703171\n",
      "\n"
     ]
    }
   ],
   "source": [
    "W1, b1, W2, b2, W3, b3 = MLP_4layers(X_train, y_train, epochs=1001, lambda_ =0.005, learning_rate=0.001)"
   ]
  },
  {
   "cell_type": "code",
   "execution_count": 31,
   "metadata": {},
   "outputs": [],
   "source": [
    "def predict_4layer(X, W1, b1, W2, b2, W3, b3 ):\n",
    "    ans=[]\n",
    "    for i in range(len(X)):\n",
    "        z2=np.dot(W1, X[i].reshape(-1,1))+b1\n",
    "\n",
    "        a2=tangent(z2)\n",
    "        z3=np.dot(W2,a2)+b2 \n",
    "        a3=tangent(z3)\n",
    "        z4=np.dot(W3,a3)+b3 \n",
    "#             a4=leaky_rectified_linear(z4)\n",
    "        a4=z4\n",
    "        ans.append(a4)\n",
    "    \n",
    "    return ans"
   ]
  },
  {
   "cell_type": "code",
   "execution_count": 32,
   "metadata": {},
   "outputs": [],
   "source": [
    "y_pred=predict_4layer(X_test, W1, b1, W2, b2, W3, b3 )"
   ]
  },
  {
   "cell_type": "code",
   "execution_count": 33,
   "metadata": {},
   "outputs": [
    {
     "data": {
      "text/plain": [
       "0.8555519191703171"
      ]
     },
     "execution_count": 33,
     "metadata": {},
     "output_type": "execute_result"
    }
   ],
   "source": [
    "r2_score(y_test, np.concatenate(np.concatenate(np.stack(y_pred,axis=0))))"
   ]
  },
  {
   "cell_type": "code",
   "execution_count": 34,
   "metadata": {},
   "outputs": [
    {
     "data": {
      "text/plain": [
       "6663.042429302522"
      ]
     },
     "execution_count": 34,
     "metadata": {},
     "output_type": "execute_result"
    }
   ],
   "source": [
    "mean_squared_error(y_test, np.concatenate(np.concatenate(np.stack(y_pred,axis=0))))"
   ]
  },
  {
   "cell_type": "code",
   "execution_count": null,
   "metadata": {},
   "outputs": [],
   "source": []
  }
 ],
 "metadata": {
  "kernelspec": {
   "display_name": "Python 3",
   "language": "python",
   "name": "python3"
  },
  "language_info": {
   "codemirror_mode": {
    "name": "ipython",
    "version": 3
   },
   "file_extension": ".py",
   "mimetype": "text/x-python",
   "name": "python",
   "nbconvert_exporter": "python",
   "pygments_lexer": "ipython3",
   "version": "3.7.7"
  }
 },
 "nbformat": 4,
 "nbformat_minor": 4
}
