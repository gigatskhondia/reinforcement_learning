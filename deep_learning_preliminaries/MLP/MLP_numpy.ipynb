{
 "cells": [
  {
   "cell_type": "code",
   "execution_count": 1,
   "metadata": {},
   "outputs": [],
   "source": [
    "from sklearn.datasets import make_regression"
   ]
  },
  {
   "cell_type": "code",
   "execution_count": 2,
   "metadata": {},
   "outputs": [],
   "source": [
    "import numpy as np"
   ]
  },
  {
   "cell_type": "code",
   "execution_count": 3,
   "metadata": {},
   "outputs": [],
   "source": [
    "from sklearn.model_selection import train_test_split"
   ]
  },
  {
   "cell_type": "code",
   "execution_count": 4,
   "metadata": {},
   "outputs": [],
   "source": [
    "# http://ufldl.stanford.edu/tutorial/supervised/MultiLayerNeuralNetworks/"
   ]
  },
  {
   "cell_type": "markdown",
   "metadata": {},
   "source": [
    "### Generate data"
   ]
  },
  {
   "cell_type": "code",
   "execution_count": 5,
   "metadata": {},
   "outputs": [],
   "source": [
    "rng = np.random.RandomState(0)"
   ]
  },
  {
   "cell_type": "code",
   "execution_count": 6,
   "metadata": {},
   "outputs": [],
   "source": [
    "n_samples, n_features = 1000, 20"
   ]
  },
  {
   "cell_type": "code",
   "execution_count": 7,
   "metadata": {},
   "outputs": [],
   "source": [
    "X, y = make_regression(n_samples, n_features, random_state=rng)"
   ]
  },
  {
   "cell_type": "code",
   "execution_count": 8,
   "metadata": {},
   "outputs": [],
   "source": [
    "X_train, X_test, y_train, y_test = train_test_split(X, y, random_state=rng)"
   ]
  },
  {
   "cell_type": "markdown",
   "metadata": {},
   "source": [
    "### Baseline"
   ]
  },
  {
   "cell_type": "code",
   "execution_count": 9,
   "metadata": {},
   "outputs": [],
   "source": [
    "from sklearn.linear_model import Lasso, Ridge"
   ]
  },
  {
   "cell_type": "code",
   "execution_count": 10,
   "metadata": {},
   "outputs": [],
   "source": [
    "# reg = Lasso()\n",
    "reg = Ridge(alpha=.5)"
   ]
  },
  {
   "cell_type": "code",
   "execution_count": 11,
   "metadata": {},
   "outputs": [
    {
     "data": {
      "text/plain": [
       "Ridge(alpha=0.5, copy_X=True, fit_intercept=True, max_iter=None,\n",
       "      normalize=False, random_state=None, solver='auto', tol=0.001)"
      ]
     },
     "execution_count": 11,
     "metadata": {},
     "output_type": "execute_result"
    }
   ],
   "source": [
    "reg.fit(X_train, y_train)"
   ]
  },
  {
   "cell_type": "code",
   "execution_count": 12,
   "metadata": {},
   "outputs": [
    {
     "name": "stdout",
     "output_type": "stream",
     "text": [
      "0.999999399117411\n"
     ]
    }
   ],
   "source": [
    "print(reg.score(X_test, y_test))"
   ]
  },
  {
   "cell_type": "code",
   "execution_count": 13,
   "metadata": {},
   "outputs": [],
   "source": [
    "y_pred=reg.predict(X_test)"
   ]
  },
  {
   "cell_type": "code",
   "execution_count": 14,
   "metadata": {},
   "outputs": [],
   "source": [
    "def r2_score(y_test,y_pred):\n",
    "    u = ((y_test - y_pred) ** 2).sum()\n",
    "    v = ((y_test - y_test.mean()) ** 2).sum()\n",
    "    score = (1 - u/v)\n",
    "    return score"
   ]
  },
  {
   "cell_type": "code",
   "execution_count": 15,
   "metadata": {},
   "outputs": [
    {
     "data": {
      "text/plain": [
       "0.9999993991174111"
      ]
     },
     "execution_count": 15,
     "metadata": {},
     "output_type": "execute_result"
    }
   ],
   "source": [
    "r2_score(y_test,y_pred)"
   ]
  },
  {
   "cell_type": "code",
   "execution_count": 18,
   "metadata": {},
   "outputs": [],
   "source": [
    "from sklearn.metrics import mean_squared_error"
   ]
  },
  {
   "cell_type": "code",
   "execution_count": 19,
   "metadata": {},
   "outputs": [
    {
     "data": {
      "text/plain": [
       "0.027717268116372908"
      ]
     },
     "execution_count": 19,
     "metadata": {},
     "output_type": "execute_result"
    }
   ],
   "source": [
    "mean_squared_error(y_test,y_pred)"
   ]
  },
  {
   "cell_type": "markdown",
   "metadata": {},
   "source": [
    "### MLP"
   ]
  },
  {
   "cell_type": "code",
   "execution_count": 20,
   "metadata": {},
   "outputs": [],
   "source": [
    "# mu =  X_train.mean(0)\n",
    "# std = X_train.std(0)\n",
    "# X_train = np.divide(X_train - mu, std)\n",
    "# X_test=np.divide(X_test - mu, std)"
   ]
  },
  {
   "cell_type": "code",
   "execution_count": 21,
   "metadata": {},
   "outputs": [],
   "source": [
    "def sigmoid(z):\n",
    "    return 1/(1+np.exp(-z))"
   ]
  },
  {
   "cell_type": "code",
   "execution_count": 22,
   "metadata": {},
   "outputs": [],
   "source": [
    "def tangent(z):\n",
    "    return (np.exp(z)-np.exp(-z))/(np.exp(z)+np.exp(-z))"
   ]
  },
  {
   "cell_type": "code",
   "execution_count": 23,
   "metadata": {},
   "outputs": [],
   "source": [
    "def leaky_rectified_linear(z):\n",
    "    return z if z > 0 else 0.01*z"
   ]
  },
  {
   "cell_type": "code",
   "execution_count": 24,
   "metadata": {},
   "outputs": [],
   "source": [
    "def rectified_linear(z):\n",
    "    return np.maximum(0,z)"
   ]
  },
  {
   "cell_type": "code",
   "execution_count": 25,
   "metadata": {},
   "outputs": [],
   "source": [
    "def MLP_4layers(X, y, epochs = 1000, lambda_ =0.01, learning_rate=1e-3, units_l2=5, units_l3=5, units_l4=1):\n",
    "    \n",
    "    units_l1 = X.shape[1]\n",
    "    \n",
    "    W1=np.random.rand(units_l2,units_l1)*0.01\n",
    "    b1=np.zeros((units_l2,1))\n",
    "      \n",
    "    W2=np.random.rand(units_l3, units_l2)*0.01\n",
    "    b2=np.zeros((units_l3,1))\n",
    "    \n",
    "    \n",
    "    W3=np.random.rand(units_l4, units_l3)*0.01\n",
    "    b3=np.zeros((units_l4,1))\n",
    "    \n",
    "    m=len(X)\n",
    "    \n",
    "    def predict(X,W1, b1, W2, b2, W3, b3):\n",
    "        ans=[]\n",
    "        \n",
    "        for i in range(len(X)):\n",
    "            z2=np.dot(W1, X[i].reshape(-1,1))+b1\n",
    "\n",
    "            a2=tangent(z2)\n",
    "            z3=np.dot(W2,a2)+b2 \n",
    "            a3=tangent(z3)\n",
    "            z4=np.dot(W3,a3)+b3 \n",
    "            a4=z4\n",
    "            ans.append(a4)\n",
    "            \n",
    "        return ans\n",
    "        \n",
    "    for epoch in range(epochs):\n",
    "        \n",
    "        \n",
    "        J0=0\n",
    "        \n",
    "        delW1=np.zeros((units_l2,units_l1))\n",
    "        delb1=np.zeros((units_l2,1))\n",
    "        delW2=np.zeros((units_l3, units_l2))\n",
    "        delb2=np.zeros((units_l3,1))\n",
    "        delW3=np.zeros((units_l4, units_l3))\n",
    "        delb3=np.zeros((units_l4,1))\n",
    "        \n",
    "        for i in range(m):\n",
    "            \n",
    "            # forward\n",
    "            z2=np.dot(W1, X[i].reshape(-1,1))+b1\n",
    "\n",
    "            a2=tangent(z2)\n",
    "            z3=np.dot(W2,a2)+b2 \n",
    "            a3=tangent(z3)\n",
    "            z4=np.dot(W3,a3)+b3 \n",
    "#             a4=leaky_rectified_linear(z4)\n",
    "            a4=z4\n",
    "            \n",
    "#             print(a4)\n",
    "            J0+=0.5*(a4-y[i])**2\n",
    "            \n",
    "            # backward\n",
    "            delta4=-(y[i]-a4)\n",
    "            delta3=np.dot(W3.T,delta4)*(1-a3**2)\n",
    "            delta2=np.dot(W2.T,delta3)*(1-a2**2)\n",
    "            \n",
    "            \n",
    "            derivW3=np.dot(delta4, a3.T)\n",
    "            derivb3=delta4\n",
    "            \n",
    "            derivW2=np.dot(delta3, a2.T)\n",
    "            derivb2=delta3\n",
    "            \n",
    "            derivW1=np.dot(delta2, X[i].reshape(-1,1).T)\n",
    "            derivb1=delta2\n",
    "            \n",
    "            delW3+=derivW3\n",
    "            delb3+=derivb3\n",
    "            \n",
    "            delW2+=derivW2\n",
    "            delb2+=derivb2\n",
    "\n",
    "            delW1+=derivW1\n",
    "            delb1+=derivb1\n",
    "\n",
    "        W3=W3-learning_rate*(1/m*delW3+lambda_*W3)     \n",
    "        b3=b3-learning_rate*(1/m*delb3)  \n",
    "        \n",
    "        W2=W2-learning_rate*(1/m*delW2+lambda_*W2)     \n",
    "        b2=b2-learning_rate*(1/m*delb2)\n",
    "\n",
    "        W1=W1-learning_rate*(1/m*delW1+lambda_*W1)     \n",
    "        b1=b1-learning_rate*(1/m*delb1)\n",
    "        \n",
    "        \n",
    "#         print(W3)\n",
    "#         print(b3)\n",
    "#         print(W2)\n",
    "#         print(b2)\n",
    "#         print(W1)\n",
    "#         print(b1)\n",
    "#         print()\n",
    "        J=(1/m)*J0+(lambda_/2)*((W1**2).sum(axis=1).sum(axis=0)\n",
    "                                +(W2**2).sum(axis=1).sum(axis=0)\n",
    "                                +(W3**2).sum(axis=1).sum(axis=0))\n",
    "#         print(epoch)\n",
    "        \n",
    "        if epoch%50==0:\n",
    "            print(\"loss after {} epochs: \".format(epoch+1), J)\n",
    "            y_pred=predict(X_test,W1, b1, W2, b2, W3, b3)\n",
    "            print(\"score: \", r2_score(y_test, np.concatenate(np.concatenate(np.stack(y_pred,axis=0))) ))\n",
    "            print()\n",
    "        \n",
    "        \n",
    "        \n",
    "    return W1, b1, W2, b2, W3, b3"
   ]
  },
  {
   "cell_type": "code",
   "execution_count": 29,
   "metadata": {
    "scrolled": true
   },
   "outputs": [
    {
     "name": "stdout",
     "output_type": "stream",
     "text": [
      "loss after 1 epochs:  [[22435.02031639]]\n",
      "score:  -0.001418941271136509\n",
      "\n",
      "loss after 51 epochs:  [[22434.13049723]]\n",
      "score:  -0.0013459548759842122\n",
      "\n",
      "loss after 101 epochs:  [[22433.32087663]]\n",
      "score:  -0.001278090039244173\n",
      "\n",
      "loss after 151 epochs:  [[22432.56354523]]\n",
      "score:  -0.0012139601272382894\n",
      "\n",
      "loss after 201 epochs:  [[22431.41058373]]\n",
      "score:  -0.0011319959647939637\n",
      "\n",
      "loss after 251 epochs:  [[20532.62404813]]\n",
      "score:  0.08719689199213865\n",
      "\n",
      "loss after 301 epochs:  [[15532.60806234]]\n",
      "score:  0.30484260916804873\n",
      "\n",
      "loss after 351 epochs:  [[12340.11889799]]\n",
      "score:  0.4444360569089305\n",
      "\n",
      "loss after 401 epochs:  [[10271.4152936]]\n",
      "score:  0.5342234088948825\n",
      "\n",
      "loss after 451 epochs:  [[8731.97773582]]\n",
      "score:  0.6023129454072\n",
      "\n",
      "loss after 501 epochs:  [[7554.60305533]]\n",
      "score:  0.6492338155994521\n",
      "\n",
      "loss after 551 epochs:  [[6650.5960789]]\n",
      "score:  0.6875761136646584\n",
      "\n",
      "loss after 601 epochs:  [[5900.80920066]]\n",
      "score:  0.7186899987690676\n",
      "\n",
      "loss after 651 epochs:  [[5302.75234507]]\n",
      "score:  0.7414399661270015\n",
      "\n",
      "loss after 701 epochs:  [[4816.17539104]]\n",
      "score:  0.7591625419405175\n",
      "\n",
      "loss after 751 epochs:  [[4455.29871921]]\n",
      "score:  0.7729336083487248\n",
      "\n",
      "loss after 801 epochs:  [[4115.78260182]]\n",
      "score:  0.7850505087154687\n",
      "\n",
      "loss after 851 epochs:  [[3822.71228306]]\n",
      "score:  0.7975067898215115\n",
      "\n",
      "loss after 901 epochs:  [[3657.80101925]]\n",
      "score:  0.8044423289585081\n",
      "\n",
      "loss after 951 epochs:  [[3503.62843708]]\n",
      "score:  0.8119685375251581\n",
      "\n",
      "loss after 1001 epochs:  [[3296.38002847]]\n",
      "score:  0.8201554050285432\n",
      "\n",
      "loss after 1051 epochs:  [[3172.57995002]]\n",
      "score:  0.8257669419181676\n",
      "\n",
      "loss after 1101 epochs:  [[3005.59925242]]\n",
      "score:  0.8326281711493404\n",
      "\n",
      "loss after 1151 epochs:  [[2890.58152081]]\n",
      "score:  0.8412147402562813\n",
      "\n",
      "loss after 1201 epochs:  [[2775.31798055]]\n",
      "score:  0.8487571690364913\n",
      "\n",
      "loss after 1251 epochs:  [[2845.03062636]]\n",
      "score:  0.8476006915432538\n",
      "\n",
      "loss after 1301 epochs:  [[2762.90338871]]\n",
      "score:  0.8442588574349141\n",
      "\n",
      "loss after 1351 epochs:  [[2519.23033534]]\n",
      "score:  0.8565523963439382\n",
      "\n",
      "loss after 1401 epochs:  [[2552.74134219]]\n",
      "score:  0.8557716303614092\n",
      "\n",
      "loss after 1451 epochs:  [[2329.40789681]]\n",
      "score:  0.8673968898382974\n",
      "\n",
      "loss after 1501 epochs:  [[2255.51408248]]\n",
      "score:  0.8665741494089607\n",
      "\n",
      "loss after 1551 epochs:  [[2161.69424498]]\n",
      "score:  0.8762610509986575\n",
      "\n",
      "loss after 1601 epochs:  [[2160.94620658]]\n",
      "score:  0.8720484213037121\n",
      "\n",
      "loss after 1651 epochs:  [[2282.66272269]]\n",
      "score:  0.8578108980057448\n",
      "\n",
      "loss after 1701 epochs:  [[2290.44775961]]\n",
      "score:  0.8720045656990515\n",
      "\n",
      "loss after 1751 epochs:  [[2135.72844811]]\n",
      "score:  0.8735153332275315\n",
      "\n",
      "loss after 1801 epochs:  [[2120.55532494]]\n",
      "score:  0.8694282706645368\n",
      "\n",
      "loss after 1851 epochs:  [[2136.23912308]]\n",
      "score:  0.8724708998159144\n",
      "\n",
      "loss after 1901 epochs:  [[2337.33136055]]\n",
      "score:  0.8463128453035478\n",
      "\n",
      "loss after 1951 epochs:  [[2197.31068384]]\n",
      "score:  0.8577270894009942\n",
      "\n",
      "loss after 2001 epochs:  [[2179.31863283]]\n",
      "score:  0.8701499080402872\n",
      "\n",
      "loss after 2051 epochs:  [[2049.03453002]]\n",
      "score:  0.8710260606906827\n",
      "\n",
      "loss after 2101 epochs:  [[2131.7166561]]\n",
      "score:  0.875779363012655\n",
      "\n",
      "loss after 2151 epochs:  [[2131.83053366]]\n",
      "score:  0.8790733830768872\n",
      "\n",
      "loss after 2201 epochs:  [[2154.91334379]]\n",
      "score:  0.8770686033443102\n",
      "\n",
      "loss after 2251 epochs:  [[2131.98712212]]\n",
      "score:  0.8718668202571892\n",
      "\n",
      "loss after 2301 epochs:  [[2021.24881061]]\n",
      "score:  0.8773884967749703\n",
      "\n",
      "loss after 2351 epochs:  [[1815.8490553]]\n",
      "score:  0.8845112787435244\n",
      "\n",
      "loss after 2401 epochs:  [[1902.1161169]]\n",
      "score:  0.8847068758056105\n",
      "\n",
      "loss after 2451 epochs:  [[1974.90334628]]\n",
      "score:  0.8753946669675006\n",
      "\n",
      "loss after 2501 epochs:  [[1936.89138499]]\n",
      "score:  0.8788486325404912\n",
      "\n",
      "loss after 2551 epochs:  [[2027.18857835]]\n",
      "score:  0.871881240157043\n",
      "\n",
      "loss after 2601 epochs:  [[1748.96705757]]\n",
      "score:  0.8855506475669858\n",
      "\n",
      "loss after 2651 epochs:  [[2160.20910969]]\n",
      "score:  0.8641921052523882\n",
      "\n",
      "loss after 2701 epochs:  [[1811.85862153]]\n",
      "score:  0.8845414017673647\n",
      "\n",
      "loss after 2751 epochs:  [[1810.8993509]]\n",
      "score:  0.893269666296421\n",
      "\n",
      "loss after 2801 epochs:  [[1807.12285755]]\n",
      "score:  0.8929485562085857\n",
      "\n",
      "loss after 2851 epochs:  [[1594.14109298]]\n",
      "score:  0.8887804528481467\n",
      "\n",
      "loss after 2901 epochs:  [[2182.06490059]]\n",
      "score:  0.8633256455087732\n",
      "\n",
      "loss after 2951 epochs:  [[2106.09510561]]\n",
      "score:  0.8721526145199976\n",
      "\n",
      "loss after 3001 epochs:  [[2179.72020833]]\n"
     ]
    },
    {
     "ename": "KeyboardInterrupt",
     "evalue": "",
     "output_type": "error",
     "traceback": [
      "\u001b[0;31m---------------------------------------------------------------------------\u001b[0m",
      "\u001b[0;31mKeyboardInterrupt\u001b[0m                         Traceback (most recent call last)",
      "\u001b[0;32m<ipython-input-29-cd5a1a94718c>\u001b[0m in \u001b[0;36m<module>\u001b[0;34m\u001b[0m\n\u001b[0;32m----> 1\u001b[0;31m \u001b[0mW1\u001b[0m\u001b[0;34m,\u001b[0m \u001b[0mb1\u001b[0m\u001b[0;34m,\u001b[0m \u001b[0mW2\u001b[0m\u001b[0;34m,\u001b[0m \u001b[0mb2\u001b[0m\u001b[0;34m,\u001b[0m \u001b[0mW3\u001b[0m\u001b[0;34m,\u001b[0m \u001b[0mb3\u001b[0m \u001b[0;34m=\u001b[0m \u001b[0mMLP_4layers\u001b[0m\u001b[0;34m(\u001b[0m\u001b[0mX_train\u001b[0m\u001b[0;34m,\u001b[0m \u001b[0my_train\u001b[0m\u001b[0;34m,\u001b[0m \u001b[0mepochs\u001b[0m\u001b[0;34m=\u001b[0m\u001b[0;36m3001\u001b[0m\u001b[0;34m,\u001b[0m \u001b[0mlambda_\u001b[0m \u001b[0;34m=\u001b[0m\u001b[0;36m0.001\u001b[0m\u001b[0;34m,\u001b[0m \u001b[0mlearning_rate\u001b[0m\u001b[0;34m=\u001b[0m\u001b[0;36m0.001\u001b[0m\u001b[0;34m)\u001b[0m\u001b[0;34m\u001b[0m\u001b[0;34m\u001b[0m\u001b[0m\n\u001b[0m",
      "\u001b[0;32m<ipython-input-25-b75d1284e3e6>\u001b[0m in \u001b[0;36mMLP_4layers\u001b[0;34m(X, y, epochs, lambda_, learning_rate, units_l2, units_l3, units_l4)\u001b[0m\n\u001b[1;32m    106\u001b[0m             \u001b[0mprint\u001b[0m\u001b[0;34m(\u001b[0m\u001b[0;34m\"loss after {} epochs: \"\u001b[0m\u001b[0;34m.\u001b[0m\u001b[0mformat\u001b[0m\u001b[0;34m(\u001b[0m\u001b[0mepoch\u001b[0m\u001b[0;34m+\u001b[0m\u001b[0;36m1\u001b[0m\u001b[0;34m)\u001b[0m\u001b[0;34m,\u001b[0m \u001b[0mJ\u001b[0m\u001b[0;34m)\u001b[0m\u001b[0;34m\u001b[0m\u001b[0;34m\u001b[0m\u001b[0m\n\u001b[1;32m    107\u001b[0m             \u001b[0my_pred\u001b[0m\u001b[0;34m=\u001b[0m\u001b[0mpredict\u001b[0m\u001b[0;34m(\u001b[0m\u001b[0mX_test\u001b[0m\u001b[0;34m,\u001b[0m\u001b[0mW1\u001b[0m\u001b[0;34m,\u001b[0m \u001b[0mb1\u001b[0m\u001b[0;34m,\u001b[0m \u001b[0mW2\u001b[0m\u001b[0;34m,\u001b[0m \u001b[0mb2\u001b[0m\u001b[0;34m,\u001b[0m \u001b[0mW3\u001b[0m\u001b[0;34m,\u001b[0m \u001b[0mb3\u001b[0m\u001b[0;34m)\u001b[0m\u001b[0;34m\u001b[0m\u001b[0;34m\u001b[0m\u001b[0m\n\u001b[0;32m--> 108\u001b[0;31m             \u001b[0mprint\u001b[0m\u001b[0;34m(\u001b[0m\u001b[0;34m\"score: \"\u001b[0m\u001b[0;34m,\u001b[0m \u001b[0mr2_score\u001b[0m\u001b[0;34m(\u001b[0m\u001b[0my_test\u001b[0m\u001b[0;34m,\u001b[0m \u001b[0mnp\u001b[0m\u001b[0;34m.\u001b[0m\u001b[0mconcatenate\u001b[0m\u001b[0;34m(\u001b[0m\u001b[0mnp\u001b[0m\u001b[0;34m.\u001b[0m\u001b[0mconcatenate\u001b[0m\u001b[0;34m(\u001b[0m\u001b[0mnp\u001b[0m\u001b[0;34m.\u001b[0m\u001b[0mstack\u001b[0m\u001b[0;34m(\u001b[0m\u001b[0my_pred\u001b[0m\u001b[0;34m,\u001b[0m\u001b[0maxis\u001b[0m\u001b[0;34m=\u001b[0m\u001b[0;36m0\u001b[0m\u001b[0;34m)\u001b[0m\u001b[0;34m)\u001b[0m\u001b[0;34m)\u001b[0m \u001b[0;34m)\u001b[0m\u001b[0;34m)\u001b[0m\u001b[0;34m\u001b[0m\u001b[0;34m\u001b[0m\u001b[0m\n\u001b[0m\u001b[1;32m    109\u001b[0m             \u001b[0mprint\u001b[0m\u001b[0;34m(\u001b[0m\u001b[0;34m)\u001b[0m\u001b[0;34m\u001b[0m\u001b[0;34m\u001b[0m\u001b[0m\n\u001b[1;32m    110\u001b[0m \u001b[0;34m\u001b[0m\u001b[0m\n",
      "\u001b[0;32m<__array_function__ internals>\u001b[0m in \u001b[0;36mstack\u001b[0;34m(*args, **kwargs)\u001b[0m\n",
      "\u001b[0;32m~/Library/Python/3.7/lib/python/site-packages/numpy/core/shape_base.py\u001b[0m in \u001b[0;36mstack\u001b[0;34m(arrays, axis, out)\u001b[0m\n\u001b[1;32m    418\u001b[0m         \u001b[0m_arrays_for_stack_dispatcher\u001b[0m\u001b[0;34m(\u001b[0m\u001b[0marrays\u001b[0m\u001b[0;34m,\u001b[0m \u001b[0mstacklevel\u001b[0m\u001b[0;34m=\u001b[0m\u001b[0;36m2\u001b[0m\u001b[0;34m)\u001b[0m\u001b[0;34m\u001b[0m\u001b[0;34m\u001b[0m\u001b[0m\n\u001b[1;32m    419\u001b[0m \u001b[0;34m\u001b[0m\u001b[0m\n\u001b[0;32m--> 420\u001b[0;31m     \u001b[0marrays\u001b[0m \u001b[0;34m=\u001b[0m \u001b[0;34m[\u001b[0m\u001b[0masanyarray\u001b[0m\u001b[0;34m(\u001b[0m\u001b[0marr\u001b[0m\u001b[0;34m)\u001b[0m \u001b[0;32mfor\u001b[0m \u001b[0marr\u001b[0m \u001b[0;32min\u001b[0m \u001b[0marrays\u001b[0m\u001b[0;34m]\u001b[0m\u001b[0;34m\u001b[0m\u001b[0;34m\u001b[0m\u001b[0m\n\u001b[0m\u001b[1;32m    421\u001b[0m     \u001b[0;32mif\u001b[0m \u001b[0;32mnot\u001b[0m \u001b[0marrays\u001b[0m\u001b[0;34m:\u001b[0m\u001b[0;34m\u001b[0m\u001b[0;34m\u001b[0m\u001b[0m\n\u001b[1;32m    422\u001b[0m         \u001b[0;32mraise\u001b[0m \u001b[0mValueError\u001b[0m\u001b[0;34m(\u001b[0m\u001b[0;34m'need at least one array to stack'\u001b[0m\u001b[0;34m)\u001b[0m\u001b[0;34m\u001b[0m\u001b[0;34m\u001b[0m\u001b[0m\n",
      "\u001b[0;32m~/Library/Python/3.7/lib/python/site-packages/numpy/core/shape_base.py\u001b[0m in \u001b[0;36m<listcomp>\u001b[0;34m(.0)\u001b[0m\n\u001b[1;32m    418\u001b[0m         \u001b[0m_arrays_for_stack_dispatcher\u001b[0m\u001b[0;34m(\u001b[0m\u001b[0marrays\u001b[0m\u001b[0;34m,\u001b[0m \u001b[0mstacklevel\u001b[0m\u001b[0;34m=\u001b[0m\u001b[0;36m2\u001b[0m\u001b[0;34m)\u001b[0m\u001b[0;34m\u001b[0m\u001b[0;34m\u001b[0m\u001b[0m\n\u001b[1;32m    419\u001b[0m \u001b[0;34m\u001b[0m\u001b[0m\n\u001b[0;32m--> 420\u001b[0;31m     \u001b[0marrays\u001b[0m \u001b[0;34m=\u001b[0m \u001b[0;34m[\u001b[0m\u001b[0masanyarray\u001b[0m\u001b[0;34m(\u001b[0m\u001b[0marr\u001b[0m\u001b[0;34m)\u001b[0m \u001b[0;32mfor\u001b[0m \u001b[0marr\u001b[0m \u001b[0;32min\u001b[0m \u001b[0marrays\u001b[0m\u001b[0;34m]\u001b[0m\u001b[0;34m\u001b[0m\u001b[0;34m\u001b[0m\u001b[0m\n\u001b[0m\u001b[1;32m    421\u001b[0m     \u001b[0;32mif\u001b[0m \u001b[0;32mnot\u001b[0m \u001b[0marrays\u001b[0m\u001b[0;34m:\u001b[0m\u001b[0;34m\u001b[0m\u001b[0;34m\u001b[0m\u001b[0m\n\u001b[1;32m    422\u001b[0m         \u001b[0;32mraise\u001b[0m \u001b[0mValueError\u001b[0m\u001b[0;34m(\u001b[0m\u001b[0;34m'need at least one array to stack'\u001b[0m\u001b[0;34m)\u001b[0m\u001b[0;34m\u001b[0m\u001b[0;34m\u001b[0m\u001b[0m\n",
      "\u001b[0;32m~/Library/Python/3.7/lib/python/site-packages/numpy/core/_asarray.py\u001b[0m in \u001b[0;36masanyarray\u001b[0;34m(a, dtype, order)\u001b[0m\n\u001b[1;32m    136\u001b[0m \u001b[0;34m\u001b[0m\u001b[0m\n\u001b[1;32m    137\u001b[0m     \"\"\"\n\u001b[0;32m--> 138\u001b[0;31m     \u001b[0;32mreturn\u001b[0m \u001b[0marray\u001b[0m\u001b[0;34m(\u001b[0m\u001b[0ma\u001b[0m\u001b[0;34m,\u001b[0m \u001b[0mdtype\u001b[0m\u001b[0;34m,\u001b[0m \u001b[0mcopy\u001b[0m\u001b[0;34m=\u001b[0m\u001b[0;32mFalse\u001b[0m\u001b[0;34m,\u001b[0m \u001b[0morder\u001b[0m\u001b[0;34m=\u001b[0m\u001b[0morder\u001b[0m\u001b[0;34m,\u001b[0m \u001b[0msubok\u001b[0m\u001b[0;34m=\u001b[0m\u001b[0;32mTrue\u001b[0m\u001b[0;34m)\u001b[0m\u001b[0;34m\u001b[0m\u001b[0;34m\u001b[0m\u001b[0m\n\u001b[0m\u001b[1;32m    139\u001b[0m \u001b[0;34m\u001b[0m\u001b[0m\n\u001b[1;32m    140\u001b[0m \u001b[0;34m\u001b[0m\u001b[0m\n",
      "\u001b[0;31mKeyboardInterrupt\u001b[0m: "
     ]
    }
   ],
   "source": [
    "W1, b1, W2, b2, W3, b3 = MLP_4layers(X_train, y_train, epochs=1001, lambda_ =0.001, learning_rate=0.001)"
   ]
  },
  {
   "cell_type": "code",
   "execution_count": null,
   "metadata": {},
   "outputs": [],
   "source": [
    "def predict_4layer(X, W1, b1, W2, b2, W3, b3 ):\n",
    "    ans=[]\n",
    "    for i in range(len(X)):\n",
    "        z2=np.dot(W1, X[i].reshape(-1,1))+b1\n",
    "\n",
    "        a2=tangent(z2)\n",
    "        z3=np.dot(W2,a2)+b2 \n",
    "        a3=tangent(z3)\n",
    "        z4=np.dot(W3,a3)+b3 \n",
    "#             a4=leaky_rectified_linear(z4)\n",
    "        a4=z4\n",
    "        ans.append(a4)\n",
    "    \n",
    "    return ans"
   ]
  },
  {
   "cell_type": "code",
   "execution_count": null,
   "metadata": {},
   "outputs": [],
   "source": [
    "y_pred=predict_4layer(X_test, W1, b1, W2, b2, W3, b3 )"
   ]
  },
  {
   "cell_type": "code",
   "execution_count": null,
   "metadata": {},
   "outputs": [],
   "source": [
    "r2_score(y_test, np.concatenate(np.concatenate(np.stack(y_pred,axis=0))))"
   ]
  },
  {
   "cell_type": "code",
   "execution_count": null,
   "metadata": {},
   "outputs": [],
   "source": [
    "mean_squared_error(y_test, np.concatenate(np.concatenate(np.stack(y_pred,axis=0))))"
   ]
  },
  {
   "cell_type": "code",
   "execution_count": null,
   "metadata": {},
   "outputs": [],
   "source": []
  }
 ],
 "metadata": {
  "kernelspec": {
   "display_name": "Python 3",
   "language": "python",
   "name": "python3"
  },
  "language_info": {
   "codemirror_mode": {
    "name": "ipython",
    "version": 3
   },
   "file_extension": ".py",
   "mimetype": "text/x-python",
   "name": "python",
   "nbconvert_exporter": "python",
   "pygments_lexer": "ipython3",
   "version": "3.7.7"
  }
 },
 "nbformat": 4,
 "nbformat_minor": 4
}
