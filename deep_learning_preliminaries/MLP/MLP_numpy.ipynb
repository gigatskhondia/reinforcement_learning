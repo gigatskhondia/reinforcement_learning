{
 "cells": [
  {
   "cell_type": "code",
   "execution_count": 1,
   "metadata": {},
   "outputs": [],
   "source": [
    "from sklearn.datasets import make_regression"
   ]
  },
  {
   "cell_type": "code",
   "execution_count": 2,
   "metadata": {},
   "outputs": [],
   "source": [
    "import numpy as np"
   ]
  },
  {
   "cell_type": "code",
   "execution_count": 3,
   "metadata": {},
   "outputs": [],
   "source": [
    "from sklearn.model_selection import train_test_split"
   ]
  },
  {
   "cell_type": "code",
   "execution_count": 4,
   "metadata": {},
   "outputs": [],
   "source": [
    "# http://ufldl.stanford.edu/tutorial/supervised/MultiLayerNeuralNetworks/"
   ]
  },
  {
   "cell_type": "markdown",
   "metadata": {},
   "source": [
    "### Generate data"
   ]
  },
  {
   "cell_type": "code",
   "execution_count": 5,
   "metadata": {},
   "outputs": [],
   "source": [
    "rng = np.random.RandomState(0)"
   ]
  },
  {
   "cell_type": "code",
   "execution_count": 6,
   "metadata": {},
   "outputs": [],
   "source": [
    "n_samples, n_features = 1000, 20"
   ]
  },
  {
   "cell_type": "code",
   "execution_count": 7,
   "metadata": {},
   "outputs": [],
   "source": [
    "X, y = make_regression(n_samples, n_features, random_state=rng)"
   ]
  },
  {
   "cell_type": "code",
   "execution_count": 8,
   "metadata": {},
   "outputs": [],
   "source": [
    "X_train, X_test, y_train, y_test = train_test_split(X, y, random_state=rng)"
   ]
  },
  {
   "cell_type": "markdown",
   "metadata": {},
   "source": [
    "### Baseline"
   ]
  },
  {
   "cell_type": "code",
   "execution_count": 9,
   "metadata": {},
   "outputs": [],
   "source": [
    "from sklearn.linear_model import Lasso, Ridge"
   ]
  },
  {
   "cell_type": "code",
   "execution_count": 10,
   "metadata": {},
   "outputs": [],
   "source": [
    "# reg = Lasso()\n",
    "reg = Ridge(alpha=.5)"
   ]
  },
  {
   "cell_type": "code",
   "execution_count": 11,
   "metadata": {},
   "outputs": [
    {
     "data": {
      "text/plain": [
       "Ridge(alpha=0.5, copy_X=True, fit_intercept=True, max_iter=None,\n",
       "      normalize=False, random_state=None, solver='auto', tol=0.001)"
      ]
     },
     "execution_count": 11,
     "metadata": {},
     "output_type": "execute_result"
    }
   ],
   "source": [
    "reg.fit(X_train, y_train)"
   ]
  },
  {
   "cell_type": "code",
   "execution_count": 12,
   "metadata": {},
   "outputs": [
    {
     "name": "stdout",
     "output_type": "stream",
     "text": [
      "0.999999399117411\n"
     ]
    }
   ],
   "source": [
    "print(reg.score(X_test, y_test))"
   ]
  },
  {
   "cell_type": "code",
   "execution_count": 13,
   "metadata": {},
   "outputs": [],
   "source": [
    "y_pred=reg.predict(X_test)"
   ]
  },
  {
   "cell_type": "code",
   "execution_count": 14,
   "metadata": {},
   "outputs": [],
   "source": [
    "def r2_score(y_test,y_pred):\n",
    "    u = ((y_test - y_pred) ** 2).sum()\n",
    "    v = ((y_test - y_test.mean()) ** 2).sum()\n",
    "    score = (1 - u/v)\n",
    "    return score"
   ]
  },
  {
   "cell_type": "code",
   "execution_count": 15,
   "metadata": {},
   "outputs": [
    {
     "data": {
      "text/plain": [
       "0.9999993991174111"
      ]
     },
     "execution_count": 15,
     "metadata": {},
     "output_type": "execute_result"
    }
   ],
   "source": [
    "r2_score(y_test,y_pred)"
   ]
  },
  {
   "cell_type": "markdown",
   "metadata": {},
   "source": [
    "### MLP"
   ]
  },
  {
   "cell_type": "code",
   "execution_count": 16,
   "metadata": {},
   "outputs": [],
   "source": [
    "mu =  X_train.mean(0)\n",
    "std = X_train.std(0)\n",
    "X_train = np.divide(X_train - mu, std)\n",
    "X_test=np.divide(X_test - mu, std)"
   ]
  },
  {
   "cell_type": "code",
   "execution_count": 17,
   "metadata": {},
   "outputs": [],
   "source": [
    "def sigmoid(z):\n",
    "    return 1/(1+np.exp(-z))"
   ]
  },
  {
   "cell_type": "code",
   "execution_count": 18,
   "metadata": {},
   "outputs": [],
   "source": [
    "def tangent(z):\n",
    "    return (np.exp(z)-np.exp(-z))/(np.exp(z)+np.exp(-z))"
   ]
  },
  {
   "cell_type": "code",
   "execution_count": 19,
   "metadata": {},
   "outputs": [],
   "source": [
    "def leaky_rectified_linear(z):\n",
    "    return z if z > 0 else 0.01*z"
   ]
  },
  {
   "cell_type": "code",
   "execution_count": 20,
   "metadata": {},
   "outputs": [],
   "source": [
    "def rectified_linear(z):\n",
    "    return np.maximum(0,z)"
   ]
  },
  {
   "cell_type": "code",
   "execution_count": 21,
   "metadata": {},
   "outputs": [],
   "source": [
    "def MLP_4layers(X, y, epochs = 1000, lambda_ =0.01, learning_rate=1e-3, units_l2=5, units_l3=5, units_l4=1):\n",
    "    \n",
    "    units_l1 = X.shape[1]\n",
    "    \n",
    "    W1=np.random.rand(units_l2,units_l1)*0.5\n",
    "    b1=np.zeros((units_l2,1))\n",
    "      \n",
    "    W2=np.random.rand(units_l3, units_l2)*0.5\n",
    "    b2=np.zeros((units_l3,1))\n",
    "    \n",
    "    \n",
    "    W3=np.random.rand(units_l4, units_l3)*0.5\n",
    "    b3=np.zeros((units_l4,1))\n",
    "    \n",
    "    m=len(X)\n",
    "      \n",
    "    for epoch in range(epochs):\n",
    "        \n",
    "        \n",
    "        J0=0\n",
    "        \n",
    "        delW1=np.zeros((units_l2,units_l1))\n",
    "        delb1=np.zeros((units_l2,1))\n",
    "        delW2=np.zeros((units_l3, units_l2))\n",
    "        delb2=np.zeros((units_l3,1))\n",
    "        delW3=np.zeros((units_l4, units_l3))\n",
    "        delb3=np.zeros((units_l4,1))\n",
    "        \n",
    "        for i in range(m):\n",
    "            \n",
    "            # forward\n",
    "            z2=np.dot(W1, X[i].reshape(-1,1))+b1\n",
    "\n",
    "            a2=tangent(z2)\n",
    "            z3=np.dot(W2,a2)+b2 \n",
    "            a3=tangent(z3)\n",
    "            z4=np.dot(W3,a3)+b3 \n",
    "#             a4=leaky_rectified_linear(z4)\n",
    "            a4=z4\n",
    "            \n",
    "#             print(a4)\n",
    "            J0+=0.5*(a4-y[i])**2\n",
    "            \n",
    "            # backward\n",
    "            delta4=-(y[i]-a4)\n",
    "            delta3=np.dot(W3.T,delta4)*(1-a3**2)\n",
    "            delta2=np.dot(W2.T,delta3)*(1-a2**2)\n",
    "            \n",
    "            \n",
    "            derivW3=np.dot(delta4, a3.T)\n",
    "            derivb3=delta4\n",
    "            \n",
    "            derivW2=np.dot(delta3, a2.T)\n",
    "            derivb2=delta3\n",
    "            \n",
    "            derivW1=np.dot(delta2, X[i].reshape(-1,1).T)\n",
    "            derivb1=delta2\n",
    "            \n",
    "            delW3+=derivW3\n",
    "            delb3+=derivb3\n",
    "            \n",
    "            delW2+=derivW2\n",
    "            delb2+=derivb2\n",
    "\n",
    "            delW1+=derivW1\n",
    "            delb1+=derivb1\n",
    "\n",
    "        W3=W3-learning_rate*(1/m*delW3+lambda_*W3)     \n",
    "        b3=b3-learning_rate*(1/m*delb3)  \n",
    "        \n",
    "        W2=W2-learning_rate*(1/m*delW2+lambda_*W2)     \n",
    "        b2=b2-learning_rate*(1/m*delb2)\n",
    "\n",
    "        W1=W1-learning_rate*(1/m*delW1+lambda_*W1)     \n",
    "        b1=b1-learning_rate*(1/m*delb1)\n",
    "#         print(W3)\n",
    "#         print(b3)\n",
    "#         print(W2)\n",
    "#         print(b2)\n",
    "#         print(W1)\n",
    "#         print(b1)\n",
    "#         print()\n",
    "        J=(1/m)*J0+(lambda_/2)*((W1**2).sum(axis=1).sum(axis=0)\n",
    "                                +(W2**2).sum(axis=1).sum(axis=0)\n",
    "                                +(W3**2).sum(axis=1).sum(axis=0))\n",
    "#         print(epoch)\n",
    "        \n",
    "        if epoch%50==0:\n",
    "            print(\"loss after {} epochs: \".format(epoch+1), J)\n",
    "        \n",
    "        \n",
    "        \n",
    "    return W1, b1, W2, b2, W3, b3"
   ]
  },
  {
   "cell_type": "code",
   "execution_count": 22,
   "metadata": {
    "scrolled": true
   },
   "outputs": [
    {
     "name": "stdout",
     "output_type": "stream",
     "text": [
      "loss after 1 epochs:  [[22339.95406826]]\n",
      "loss after 51 epochs:  [[17120.3963288]]\n",
      "loss after 101 epochs:  [[13374.19944355]]\n",
      "loss after 151 epochs:  [[10871.08963165]]\n",
      "loss after 201 epochs:  [[9164.76689516]]\n",
      "loss after 251 epochs:  [[7842.45730918]]\n",
      "loss after 301 epochs:  [[6821.48887259]]\n",
      "loss after 351 epochs:  [[6019.91502494]]\n",
      "loss after 401 epochs:  [[5316.23699656]]\n",
      "loss after 451 epochs:  [[4778.38910399]]\n",
      "loss after 501 epochs:  [[4342.61613045]]\n",
      "loss after 551 epochs:  [[3989.72042338]]\n",
      "loss after 601 epochs:  [[3692.37607522]]\n",
      "loss after 651 epochs:  [[3440.648783]]\n",
      "loss after 701 epochs:  [[3218.93771693]]\n",
      "loss after 751 epochs:  [[3014.15359856]]\n",
      "loss after 801 epochs:  [[2834.77244009]]\n",
      "loss after 851 epochs:  [[2651.49858387]]\n",
      "loss after 901 epochs:  [[2489.20989689]]\n",
      "loss after 951 epochs:  [[2350.8218529]]\n",
      "loss after 1001 epochs:  [[2228.71265007]]\n",
      "loss after 1051 epochs:  [[2112.93954773]]\n",
      "loss after 1101 epochs:  [[2024.56788638]]\n",
      "loss after 1151 epochs:  [[1931.23931949]]\n",
      "loss after 1201 epochs:  [[1874.09828178]]\n",
      "loss after 1251 epochs:  [[1796.71752125]]\n",
      "loss after 1301 epochs:  [[1727.62764888]]\n",
      "loss after 1351 epochs:  [[1678.17426327]]\n",
      "loss after 1401 epochs:  [[1612.07891399]]\n",
      "loss after 1451 epochs:  [[1574.42868324]]\n",
      "loss after 1501 epochs:  [[1530.81933668]]\n",
      "loss after 1551 epochs:  [[1488.7162787]]\n",
      "loss after 1601 epochs:  [[1453.32696916]]\n",
      "loss after 1651 epochs:  [[1412.95194002]]\n",
      "loss after 1701 epochs:  [[1390.98038293]]\n",
      "loss after 1751 epochs:  [[1362.484741]]\n",
      "loss after 1801 epochs:  [[1344.49366736]]\n",
      "loss after 1851 epochs:  [[1316.53691107]]\n",
      "loss after 1901 epochs:  [[1312.28429269]]\n",
      "loss after 1951 epochs:  [[1286.65251438]]\n",
      "loss after 2001 epochs:  [[1272.07424868]]\n",
      "loss after 2051 epochs:  [[1256.2013622]]\n",
      "loss after 2101 epochs:  [[1241.20662046]]\n",
      "loss after 2151 epochs:  [[1226.39318668]]\n",
      "loss after 2201 epochs:  [[1211.76995808]]\n",
      "loss after 2251 epochs:  [[1177.48932252]]\n",
      "loss after 2301 epochs:  [[1148.00598243]]\n",
      "loss after 2351 epochs:  [[1120.14694575]]\n",
      "loss after 2401 epochs:  [[1163.04781031]]\n",
      "loss after 2451 epochs:  [[1260.51003244]]\n",
      "loss after 2501 epochs:  [[1141.99845053]]\n",
      "loss after 2551 epochs:  [[1084.61976676]]\n",
      "loss after 2601 epochs:  [[1112.27421985]]\n",
      "loss after 2651 epochs:  [[1108.74228525]]\n",
      "loss after 2701 epochs:  [[1120.5780449]]\n",
      "loss after 2751 epochs:  [[1200.22796204]]\n",
      "loss after 2801 epochs:  [[1087.74411637]]\n",
      "loss after 2851 epochs:  [[1082.25825203]]\n",
      "loss after 2901 epochs:  [[1165.71238961]]\n",
      "loss after 2951 epochs:  [[1066.11437729]]\n",
      "loss after 3001 epochs:  [[1089.41094042]]\n",
      "loss after 3051 epochs:  [[1214.34816473]]\n",
      "loss after 3101 epochs:  [[1029.82596072]]\n",
      "loss after 3151 epochs:  [[1049.48810059]]\n",
      "loss after 3201 epochs:  [[1210.1987837]]\n",
      "loss after 3251 epochs:  [[1035.33148024]]\n",
      "loss after 3301 epochs:  [[1049.10430339]]\n",
      "loss after 3351 epochs:  [[1190.99469783]]\n",
      "loss after 3401 epochs:  [[1187.1883301]]\n",
      "loss after 3451 epochs:  [[1015.45940291]]\n",
      "loss after 3501 epochs:  [[1098.50248718]]\n",
      "loss after 3551 epochs:  [[986.08864839]]\n",
      "loss after 3601 epochs:  [[943.8502394]]\n",
      "loss after 3651 epochs:  [[986.7739365]]\n",
      "loss after 3701 epochs:  [[1024.94390723]]\n",
      "loss after 3751 epochs:  [[1107.96762808]]\n",
      "loss after 3801 epochs:  [[1073.41567186]]\n",
      "loss after 3851 epochs:  [[1068.05113769]]\n",
      "loss after 3901 epochs:  [[1141.00538547]]\n",
      "loss after 3951 epochs:  [[1171.39260568]]\n",
      "loss after 4001 epochs:  [[1071.00162662]]\n",
      "loss after 4051 epochs:  [[1078.03638615]]\n",
      "loss after 4101 epochs:  [[1082.54519047]]\n",
      "loss after 4151 epochs:  [[1035.9711161]]\n",
      "loss after 4201 epochs:  [[992.58122353]]\n",
      "loss after 4251 epochs:  [[966.44524944]]\n",
      "loss after 4301 epochs:  [[1120.51329199]]\n",
      "loss after 4351 epochs:  [[1027.33292789]]\n",
      "loss after 4401 epochs:  [[1050.98923214]]\n",
      "loss after 4451 epochs:  [[1060.02230046]]\n",
      "loss after 4501 epochs:  [[1044.00860135]]\n",
      "loss after 4551 epochs:  [[1083.94323584]]\n",
      "loss after 4601 epochs:  [[1020.77335914]]\n",
      "loss after 4651 epochs:  [[1048.97933953]]\n",
      "loss after 4701 epochs:  [[1032.36979356]]\n",
      "loss after 4751 epochs:  [[1101.10280159]]\n",
      "loss after 4801 epochs:  [[1067.36289441]]\n",
      "loss after 4851 epochs:  [[1034.94374989]]\n",
      "loss after 4901 epochs:  [[1022.3361395]]\n",
      "loss after 4951 epochs:  [[1049.48506438]]\n",
      "loss after 5001 epochs:  [[1075.32441754]]\n"
     ]
    }
   ],
   "source": [
    "W1, b1, W2, b2, W3, b3 = MLP_4layers(X_train, y_train, epochs=5001, lambda_ =0.01, learning_rate=1e-3)"
   ]
  },
  {
   "cell_type": "code",
   "execution_count": 28,
   "metadata": {},
   "outputs": [],
   "source": [
    "def predict_4layer(X, W1, b1, W2, b2, W3, b3 ):\n",
    "    ans=[]\n",
    "    for i in range(len(X)):\n",
    "        z2=np.dot(W1, X[i].reshape(-1,1))+b1\n",
    "\n",
    "        a2=tangent(z2)\n",
    "        z3=np.dot(W2,a2)+b2 \n",
    "        a3=tangent(z3)\n",
    "        z4=np.dot(W3,a3)+b3 \n",
    "#             a4=leaky_rectified_linear(z4)\n",
    "        a4=z4\n",
    "        ans.append(a4)\n",
    "    \n",
    "    return ans"
   ]
  },
  {
   "cell_type": "code",
   "execution_count": 29,
   "metadata": {},
   "outputs": [],
   "source": [
    "y_pred=predict_4layer(X_test, W1, b1, W2, b2, W3, b3 )"
   ]
  },
  {
   "cell_type": "code",
   "execution_count": 30,
   "metadata": {},
   "outputs": [
    {
     "data": {
      "text/plain": [
       "-493.2682224216431"
      ]
     },
     "execution_count": 30,
     "metadata": {},
     "output_type": "execute_result"
    }
   ],
   "source": [
    "r2_score(y_test,y_pred)"
   ]
  },
  {
   "cell_type": "code",
   "execution_count": 31,
   "metadata": {},
   "outputs": [
    {
     "data": {
      "text/plain": [
       "[array([[-260.42501788]]),\n",
       " array([[-32.0493289]]),\n",
       " array([[-3.10988851]]),\n",
       " array([[-58.1625875]]),\n",
       " array([[196.70691402]]),\n",
       " array([[-53.85254345]]),\n",
       " array([[-50.83240306]]),\n",
       " array([[-68.27526683]]),\n",
       " array([[181.96790488]]),\n",
       " array([[-40.76720421]]),\n",
       " array([[215.6884183]]),\n",
       " array([[80.46700755]]),\n",
       " array([[390.17171291]]),\n",
       " array([[13.02603207]]),\n",
       " array([[-222.21858443]]),\n",
       " array([[-31.83406254]]),\n",
       " array([[-225.13040681]]),\n",
       " array([[185.93190273]]),\n",
       " array([[-189.25511548]]),\n",
       " array([[305.67665162]]),\n",
       " array([[-80.36286018]]),\n",
       " array([[161.76828939]]),\n",
       " array([[-254.88979709]]),\n",
       " array([[-80.84925614]]),\n",
       " array([[-81.15148725]]),\n",
       " array([[-68.21243253]]),\n",
       " array([[-55.61147167]]),\n",
       " array([[80.4538324]]),\n",
       " array([[389.52424692]]),\n",
       " array([[79.96408952]]),\n",
       " array([[-79.85092882]]),\n",
       " array([[-390.85797861]]),\n",
       " array([[-85.43987925]]),\n",
       " array([[138.24205585]]),\n",
       " array([[-79.32122629]]),\n",
       " array([[-391.32122827]]),\n",
       " array([[-391.30746698]]),\n",
       " array([[-222.5811869]]),\n",
       " array([[-33.16400716]]),\n",
       " array([[102.29644585]]),\n",
       " array([[-218.66061085]]),\n",
       " array([[-232.60823372]]),\n",
       " array([[127.71461351]]),\n",
       " array([[-77.23364846]]),\n",
       " array([[84.10264573]]),\n",
       " array([[376.65780337]]),\n",
       " array([[-221.29135713]]),\n",
       " array([[-68.72950036]]),\n",
       " array([[-390.86361375]]),\n",
       " array([[109.21813147]]),\n",
       " array([[179.55626261]]),\n",
       " array([[-230.88570812]]),\n",
       " array([[-338.08531884]]),\n",
       " array([[-57.03445584]]),\n",
       " array([[-67.81206163]]),\n",
       " array([[-80.11721005]]),\n",
       " array([[80.47823995]]),\n",
       " array([[379.32594294]]),\n",
       " array([[-7.98013097]]),\n",
       " array([[-84.26401805]]),\n",
       " array([[168.09841452]]),\n",
       " array([[-391.43224906]]),\n",
       " array([[-0.74048436]]),\n",
       " array([[-390.52968313]]),\n",
       " array([[-79.94550432]]),\n",
       " array([[-67.56840049]]),\n",
       " array([[-69.58147316]]),\n",
       " array([[80.38683478]]),\n",
       " array([[62.49008138]]),\n",
       " array([[84.97828202]]),\n",
       " array([[-349.29909441]]),\n",
       " array([[80.55469324]]),\n",
       " array([[-364.19712596]]),\n",
       " array([[-230.37113453]]),\n",
       " array([[-374.02063684]]),\n",
       " array([[139.9564969]]),\n",
       " array([[390.05531501]]),\n",
       " array([[-52.73133733]]),\n",
       " array([[36.14293792]]),\n",
       " array([[-210.3294522]]),\n",
       " array([[-0.98752085]]),\n",
       " array([[-217.75559117]]),\n",
       " array([[-47.36874492]]),\n",
       " array([[-218.10648424]]),\n",
       " array([[-41.48555297]]),\n",
       " array([[169.37987017]]),\n",
       " array([[218.53222994]]),\n",
       " array([[-61.61837262]]),\n",
       " array([[390.0196574]]),\n",
       " array([[-233.42283431]]),\n",
       " array([[-54.52739986]]),\n",
       " array([[48.73732885]]),\n",
       " array([[-330.45060253]]),\n",
       " array([[388.90774822]]),\n",
       " array([[-200.15344679]]),\n",
       " array([[-229.40603929]]),\n",
       " array([[-149.50657306]]),\n",
       " array([[-38.96244385]]),\n",
       " array([[77.33961086]]),\n",
       " array([[-79.31630533]]),\n",
       " array([[-217.02261303]]),\n",
       " array([[-345.62273456]]),\n",
       " array([[159.1657106]]),\n",
       " array([[352.32646427]]),\n",
       " array([[-59.43224471]]),\n",
       " array([[-68.96407091]]),\n",
       " array([[139.9021475]]),\n",
       " array([[-64.88813425]]),\n",
       " array([[87.42730809]]),\n",
       " array([[79.96148334]]),\n",
       " array([[151.04276063]]),\n",
       " array([[390.17037799]]),\n",
       " array([[-241.18619216]]),\n",
       " array([[-391.23840692]]),\n",
       " array([[-228.29530046]]),\n",
       " array([[117.45090944]]),\n",
       " array([[-345.78939943]]),\n",
       " array([[-232.19514461]]),\n",
       " array([[148.5575233]]),\n",
       " array([[188.07345588]]),\n",
       " array([[253.48686672]]),\n",
       " array([[155.02750852]]),\n",
       " array([[-222.23125282]]),\n",
       " array([[390.16560504]]),\n",
       " array([[-211.67970574]]),\n",
       " array([[-215.81525099]]),\n",
       " array([[104.55244141]]),\n",
       " array([[-134.47284257]]),\n",
       " array([[250.53668434]]),\n",
       " array([[8.78333142]]),\n",
       " array([[-165.31638964]]),\n",
       " array([[-391.40604689]]),\n",
       " array([[-390.69393067]]),\n",
       " array([[97.55278571]]),\n",
       " array([[-233.85539566]]),\n",
       " array([[192.64498835]]),\n",
       " array([[-198.92767565]]),\n",
       " array([[-108.51392039]]),\n",
       " array([[302.77832856]]),\n",
       " array([[78.34514982]]),\n",
       " array([[228.94501892]]),\n",
       " array([[-201.40542938]]),\n",
       " array([[381.28416111]]),\n",
       " array([[23.94948807]]),\n",
       " array([[381.99370584]]),\n",
       " array([[237.40339875]]),\n",
       " array([[89.62623702]]),\n",
       " array([[389.70318633]]),\n",
       " array([[158.7408469]]),\n",
       " array([[-80.07490285]]),\n",
       " array([[-66.91444575]]),\n",
       " array([[200.74801397]]),\n",
       " array([[147.68512584]]),\n",
       " array([[-134.83107007]]),\n",
       " array([[51.73371891]]),\n",
       " array([[80.69323478]]),\n",
       " array([[-391.44434843]]),\n",
       " array([[-230.07001174]]),\n",
       " array([[-80.27984329]]),\n",
       " array([[-35.52167322]]),\n",
       " array([[-243.09362098]]),\n",
       " array([[-391.44858657]]),\n",
       " array([[78.78774407]]),\n",
       " array([[-232.13379403]]),\n",
       " array([[183.05511634]]),\n",
       " array([[-168.53362348]]),\n",
       " array([[81.52660748]]),\n",
       " array([[-5.93359051]]),\n",
       " array([[175.22946571]]),\n",
       " array([[66.65154793]]),\n",
       " array([[231.27901918]]),\n",
       " array([[-83.34402084]]),\n",
       " array([[197.36059529]]),\n",
       " array([[-228.79086825]]),\n",
       " array([[-78.69766186]]),\n",
       " array([[-46.52407716]]),\n",
       " array([[-390.45640183]]),\n",
       " array([[-238.15511065]]),\n",
       " array([[182.8067041]]),\n",
       " array([[-233.06007597]]),\n",
       " array([[-391.42284545]]),\n",
       " array([[-79.20799027]]),\n",
       " array([[13.14015677]]),\n",
       " array([[154.12606041]]),\n",
       " array([[-231.07044717]]),\n",
       " array([[21.25806373]]),\n",
       " array([[-387.30667539]]),\n",
       " array([[214.7861146]]),\n",
       " array([[-80.02015542]]),\n",
       " array([[218.26756213]]),\n",
       " array([[-77.15728456]]),\n",
       " array([[-243.74637949]]),\n",
       " array([[-73.92996391]]),\n",
       " array([[390.17376152]]),\n",
       " array([[-353.89567589]]),\n",
       " array([[-314.50663919]]),\n",
       " array([[-275.31300167]]),\n",
       " array([[75.0185568]]),\n",
       " array([[-198.19624484]]),\n",
       " array([[111.34917774]]),\n",
       " array([[-42.06376117]]),\n",
       " array([[223.02111026]]),\n",
       " array([[-97.68827224]]),\n",
       " array([[-32.3609275]]),\n",
       " array([[390.17254151]]),\n",
       " array([[180.25619674]]),\n",
       " array([[-88.82468609]]),\n",
       " array([[222.03434634]]),\n",
       " array([[81.4235342]]),\n",
       " array([[80.49973102]]),\n",
       " array([[81.30257625]]),\n",
       " array([[-74.67386217]]),\n",
       " array([[-196.4966281]]),\n",
       " array([[-228.24014877]]),\n",
       " array([[240.1408876]]),\n",
       " array([[-22.68038049]]),\n",
       " array([[-45.13629682]]),\n",
       " array([[-80.76393755]]),\n",
       " array([[-391.42036081]]),\n",
       " array([[-325.03524336]]),\n",
       " array([[353.57729648]]),\n",
       " array([[96.94296696]]),\n",
       " array([[-391.43245779]]),\n",
       " array([[392.29274692]]),\n",
       " array([[76.65439837]]),\n",
       " array([[-231.84124023]]),\n",
       " array([[-34.74818631]]),\n",
       " array([[-41.49505699]]),\n",
       " array([[80.48019648]]),\n",
       " array([[-80.47643153]]),\n",
       " array([[-226.58910597]]),\n",
       " array([[-106.32285534]]),\n",
       " array([[202.99897753]]),\n",
       " array([[-65.55555507]]),\n",
       " array([[80.55377277]]),\n",
       " array([[390.09103783]]),\n",
       " array([[89.64843253]]),\n",
       " array([[-383.08492607]]),\n",
       " array([[-7.87621701]]),\n",
       " array([[186.01746476]]),\n",
       " array([[389.50495587]]),\n",
       " array([[235.3520612]]),\n",
       " array([[80.61512332]]),\n",
       " array([[221.15747223]]),\n",
       " array([[68.55866013]]),\n",
       " array([[-243.61906422]]),\n",
       " array([[80.85970595]]),\n",
       " array([[-69.98961658]]),\n",
       " array([[-80.33101938]]),\n",
       " array([[80.52791287]])]"
      ]
     },
     "execution_count": 31,
     "metadata": {},
     "output_type": "execute_result"
    }
   ],
   "source": [
    "y_pred"
   ]
  },
  {
   "cell_type": "code",
   "execution_count": 32,
   "metadata": {},
   "outputs": [
    {
     "data": {
      "text/plain": [
       "array([-253.05985268,   18.97523909,   37.81213684,  -14.88623286,\n",
       "        206.18505098,   -1.36268679,   -4.16039394,  -38.10569868,\n",
       "        191.26480967,   18.24059751,  215.37973139,   96.69451153,\n",
       "        578.34731328,   53.72826949, -146.05187323,   13.47618899,\n",
       "       -153.38589681,  219.75062031, -118.58664411,  316.44531338,\n",
       "        -88.76081405,  170.38205654, -249.97854404,  -86.58175428,\n",
       "        -95.35435497,  -24.4516394 ,    1.12659645,   91.73337799,\n",
       "        413.69894639,   89.5235367 ,  -61.47186557, -352.32932266,\n",
       "        -90.47198422,  161.47548016,  -50.25507961, -394.50346997,\n",
       "       -383.98753584, -160.21886979,   -4.85207633,  139.93263003,\n",
       "       -138.45155543, -208.6001872 ,  154.31458275,  -83.0083049 ,\n",
       "        105.7179178 ,  346.42303848, -143.94560538,  -44.10121947,\n",
       "       -366.45896839,  149.36646353,  201.63963933, -186.77605718,\n",
       "       -286.45715458,  -12.05426261,  -35.41070325,  -63.70189217,\n",
       "         83.71082528,  357.25842752,   38.74520473,  -78.13046995,\n",
       "        190.81416791, -435.85474083,   -7.55730029, -338.32822611,\n",
       "        -69.81976006,  -24.30424949,  -64.10764907,   80.49587295,\n",
       "         60.99371896,  122.30109581, -280.98049392,  110.99306649,\n",
       "       -297.31689009, -145.44372578, -289.87684685,  163.18747329,\n",
       "        459.75661141,   -8.74371503,  -53.55257449, -102.78233315,\n",
       "         43.32795481, -149.85850003,    3.88818247, -138.69103752,\n",
       "         26.04610122,  179.35286895,  234.92000801,  -24.33577544,\n",
       "        466.42466085, -214.10058871,  -11.06492199,   66.37829083,\n",
       "       -273.30884389,  395.09175944, -152.28108828, -184.396389  ,\n",
       "       -108.87773717,   16.34344967,   71.16921954,  -56.17417602,\n",
       "       -138.14401152, -284.08840535,  170.53805431,  348.93481392,\n",
       "         -4.89834001,  -39.77772588,  144.23578393,  -18.88910753,\n",
       "        127.92199259,   62.15224625,  173.04142907,  559.51526976,\n",
       "       -236.47065257, -369.74313026, -162.96428999,  156.14144516,\n",
       "       -273.37105055, -206.60565454,  147.84533269,  196.84508335,\n",
       "        291.80843664,  170.49540891, -156.82254251,  535.27529605,\n",
       "       -128.12618606, -133.06506403,  137.55101551, -109.22870769,\n",
       "        288.81338938,   40.70961837, -123.5031516 , -428.78036373,\n",
       "       -350.16570657,  133.87741722, -217.94432253,  213.54344758,\n",
       "       -169.4673889 , -100.8236527 ,  316.20422648,   76.98759806,\n",
       "        241.29607091, -121.5217152 ,  352.48056818,   35.59614544,\n",
       "        345.99824164,  268.50152616,  131.07115298,  407.75485122,\n",
       "        163.6368872 ,  -66.13697817,  -36.87287065,  250.71151877,\n",
       "        170.63936472, -112.61366184,   43.6376739 ,   86.27902424,\n",
       "       -466.17045714, -188.17661733,  -84.39645111,   21.6302028 ,\n",
       "       -250.86050738, -516.76062424,   74.27237464, -198.9438617 ,\n",
       "        196.93857899, -113.65729206,  131.16399268,   31.91863691,\n",
       "        185.22024133,   62.97395405,  256.1004501 ,  -94.46273498,\n",
       "        219.52249124, -186.72491266,  -55.22129464,    9.50164495,\n",
       "       -351.50835628, -241.71297417,  189.87289473, -224.00001548,\n",
       "       -420.3624327 ,  -54.56662027,   45.27374904,  153.82859517,\n",
       "       -202.58532086,   43.78509695, -311.78324907,  224.7899088 ,\n",
       "        -66.42208978,  223.16241639,  -42.96723995, -251.57293322,\n",
       "        -37.44108584,  615.45051813, -283.21901047, -280.62867815,\n",
       "       -259.84145732,   58.07074372, -168.29199692,  146.2029345 ,\n",
       "          7.00096226,  247.03928234,  -83.58176379,  -18.78409102,\n",
       "        579.67085668,  192.86988202,  -90.55426596,  239.56187379,\n",
       "        128.37087194,  102.65388578,  126.54204505,  -33.84737084,\n",
       "       -157.0497063 , -218.30665776,  281.60605377,   29.9212107 ,\n",
       "         15.98597356,  -90.49219892, -436.35865451, -276.09092237,\n",
       "        327.07596891,  120.26153168, -433.21343868,  398.18134237,\n",
       "         73.80150757, -197.57379977,   19.95386128,    6.53060659,\n",
       "         98.84179796,  -88.65915614, -159.20961417,  -94.50098825,\n",
       "        211.00073892,  -24.67467045,  111.51444866,  464.16751965,\n",
       "        138.05548321, -302.69568661,   48.88056912,  201.14961448,\n",
       "        421.95368738,  269.15372728,  126.59326756,  235.80478323,\n",
       "        -31.75529435, -223.25529447,  114.37136858,  -24.43840156,\n",
       "        -83.70516277,  105.34316407])"
      ]
     },
     "execution_count": 32,
     "metadata": {},
     "output_type": "execute_result"
    }
   ],
   "source": [
    "y_test"
   ]
  },
  {
   "cell_type": "code",
   "execution_count": null,
   "metadata": {},
   "outputs": [],
   "source": []
  },
  {
   "cell_type": "code",
   "execution_count": null,
   "metadata": {},
   "outputs": [],
   "source": []
  }
 ],
 "metadata": {
  "kernelspec": {
   "display_name": "Python 3",
   "language": "python",
   "name": "python3"
  },
  "language_info": {
   "codemirror_mode": {
    "name": "ipython",
    "version": 3
   },
   "file_extension": ".py",
   "mimetype": "text/x-python",
   "name": "python",
   "nbconvert_exporter": "python",
   "pygments_lexer": "ipython3",
   "version": "3.7.7"
  }
 },
 "nbformat": 4,
 "nbformat_minor": 4
}
