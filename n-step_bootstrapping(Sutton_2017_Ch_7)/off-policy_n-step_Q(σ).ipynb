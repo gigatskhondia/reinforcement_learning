{
 "cells": [
  {
   "cell_type": "code",
   "execution_count": 1,
   "metadata": {},
   "outputs": [],
   "source": [
    "import matplotlib.pyplot as plt\n",
    "import numpy as np\n",
    "import seaborn"
   ]
  },
  {
   "cell_type": "code",
   "execution_count": 2,
   "metadata": {},
   "outputs": [],
   "source": [
    "from gridWorldEnvironment import GridWorld"
   ]
  },
  {
   "cell_type": "code",
   "execution_count": 3,
   "metadata": {},
   "outputs": [],
   "source": [
    "# creating gridworld environment\n",
    "gw = GridWorld(gamma = .9, theta = .5)"
   ]
  },
  {
   "cell_type": "code",
   "execution_count": 4,
   "metadata": {},
   "outputs": [],
   "source": [
    "def state_action_value(env):\n",
    "    q = dict()\n",
    "    for state, action, next_state, reward in env.transitions:\n",
    "        q[(state, action)] = np.random.normal()\n",
    "    return q"
   ]
  },
  {
   "cell_type": "code",
   "execution_count": 5,
   "metadata": {},
   "outputs": [],
   "source": [
    "def e_greedy(env, e, q, state):\n",
    "    actions = env.actions\n",
    "    action_values = []\n",
    "    prob = []\n",
    "    for action in actions:\n",
    "        action_values.append(q[(state, action)])\n",
    "    for i in range(len(action_values)):\n",
    "        if i == np.argmax(action_values):\n",
    "            prob.append(1 - e + e/len(action_values))\n",
    "        else:\n",
    "            prob.append(e/len(action_values))\n",
    "    return actions, prob"
   ]
  },
  {
   "cell_type": "code",
   "execution_count": 6,
   "metadata": {},
   "outputs": [],
   "source": [
    "def generate_e_greedy_policy(env, e, Q):\n",
    "    pi = dict()\n",
    "    for state in env.states:\n",
    "        pi[state] = e_greedy(env, e, Q, state)\n",
    "    return pi"
   ]
  },
  {
   "cell_type": "code",
   "execution_count": 7,
   "metadata": {},
   "outputs": [],
   "source": [
    "def generate_random_policy(env):\n",
    "    pi = dict()\n",
    "    for state in env.states:\n",
    "        actions = []\n",
    "        prob = []\n",
    "        for action in env.actions:\n",
    "            actions.append(action)\n",
    "            prob.append(0.25)\n",
    "        pi[state] = (actions, prob)\n",
    "    return pi"
   ]
  },
  {
   "cell_type": "code",
   "execution_count": 8,
   "metadata": {},
   "outputs": [],
   "source": [
    "def avg_over_actions(pi, Q, state):\n",
    "    actions, probs = pi[state]\n",
    "    q_values = np.zeros(4)\n",
    "    for s, a in Q.keys():\n",
    "        if s == state:\n",
    "            q_values[actions.index(a)] = Q[s,a]\n",
    "    return np.dot(q_values, probs)"
   ]
  },
  {
   "cell_type": "markdown",
   "metadata": {},
   "source": [
    "### A Unifying Algorithm:  Off-policy n-step Q(σ)"
   ]
  },
  {
   "cell_type": "code",
   "execution_count": 20,
   "metadata": {},
   "outputs": [],
   "source": [
    "def n_step_Qσ(env, b, epsilon, alpha, n, num_iter, learn_pi = True):\n",
    "    Q = state_action_value(env)\n",
    "    Q_, pi_, delta, sigma, b_ , rho_ = dict(), dict(), dict(), dict(), dict(), dict()\n",
    "    pi = generate_e_greedy_policy(env, epsilon, Q)\n",
    "    \n",
    "    for _ in range(num_iter):\n",
    "        current_state = np.random.choice(env.states)\n",
    "        action = np.random.choice(b[current_state][0], p = b[current_state][1])\n",
    "        state_trace, action_trace, reward_trace  = [current_state], [action], [0]\n",
    "        Q_[0] = Q[current_state, action]\n",
    "        sigma[0]=np.random.random(1)[0]\n",
    "        rho_[0]=1\n",
    "        \n",
    "        t, T = 0, 10000\n",
    "        while True:\n",
    "            if t < T:\n",
    "                next_state, reward = env.state_transition(current_state, action)\n",
    "                state_trace.append(next_state)\n",
    "                reward_trace.append(reward)\n",
    "                if next_state == 0:\n",
    "                    T = t + 1\n",
    "                    delta[t] = reward - Q_[t]\n",
    "                else:\n",
    "                    action = np.random.choice(b[next_state][0], p = b[next_state][1])\n",
    "                    action_trace.append(action)\n",
    "                    sigma[t+1]=np.random.random(1)[0]\n",
    "                    Q_[t+1] = Q[next_state, action]\n",
    "                    \n",
    "                    delta[t] = reward +env.gamma*sigma[t+1]*Q_[t+1] \\\n",
    "                    + env.gamma *(1-sigma[t+1])* avg_over_actions(pi, Q, next_state) - Q_[t]\n",
    "                    \n",
    "                    pi_[t+1] = pi[next_state][1][pi[next_state][0].index(action)]\n",
    "                    b_[t+1]= b[next_state][1][b[next_state][0].index(action)]\n",
    "                    rho_[t+1]=pi_[t+1]/b_[t+1]\n",
    "                   \n",
    "            tau = t - n + 1\n",
    "            if tau >= 0:\n",
    "                rho = 1\n",
    "                Z = 1\n",
    "                G = Q_[tau]\n",
    "                for i in range(tau, min([tau + n -1, T-1])):\n",
    "                    G+=Z*delta[i]\n",
    "                    Z=env.gamma*Z*((1-sigma[i+1])*pi_[i+1]+sigma[i+1])\n",
    "                    rho*=(1-sigma[i]+sigma[i+1]*rho_[i])\n",
    "                Q[state_trace[tau], action_trace[tau]] += alpha *rho* (G - Q[state_trace[tau], action_trace[tau]])\n",
    "                if learn_pi:\n",
    "                    pi[state_trace[tau]] = e_greedy(env, epsilon, Q, state_trace[tau])\n",
    "                    \n",
    "            current_state = next_state  \n",
    "            \n",
    "            if tau == (T-1):\n",
    "                break\n",
    "            t += 1\n",
    "            \n",
    "    return pi, Q"
   ]
  },
  {
   "cell_type": "code",
   "execution_count": 21,
   "metadata": {},
   "outputs": [],
   "source": [
    "# any policy with random probabilities > 0\n",
    "b = generate_random_policy(gw)"
   ]
  },
  {
   "cell_type": "code",
   "execution_count": 31,
   "metadata": {},
   "outputs": [],
   "source": [
    "pi, Q = n_step_Qσ(gw, b, 0.2, 0.1, 2, 1000)"
   ]
  },
  {
   "cell_type": "code",
   "execution_count": 32,
   "metadata": {},
   "outputs": [],
   "source": [
    "def show_policy(pi, env):\n",
    "    temp = np.zeros(len(env.states) + 2)\n",
    "    for s in env.states:\n",
    "        a = pi[s][0][np.argmax(pi[s][1])]\n",
    "        if a == \"U\":\n",
    "            temp[s] = 0.25\n",
    "        elif a == \"D\":\n",
    "            temp[s] = 0.5\n",
    "        elif a == \"R\":\n",
    "            temp[s] = 0.75\n",
    "        else:\n",
    "            temp[s] = 1.0\n",
    "            \n",
    "    temp = temp.reshape(4,4)\n",
    "    ax = seaborn.heatmap(temp, cmap = \"prism\", linecolor=\"#282828\", cbar = False, linewidths = 0.1)\n",
    "    plt.show()"
   ]
  },
  {
   "cell_type": "code",
   "execution_count": 33,
   "metadata": {},
   "outputs": [
    {
     "data": {
      "image/png": "[encoded data removed]",
      "text/plain": [
       "<Figure size 432x288 with 1 Axes>"
      ]
     },
     "metadata": {
      "needs_background": "light"
     },
     "output_type": "display_data"
    }
   ],
   "source": [
    "### RED = TERMINAL (0)\n",
    "### GREEN = LEFT\n",
    "### BLUE = UP\n",
    "### PURPLE = RIGHT\n",
    "### ORANGE = DOWN\n",
    "\n",
    "show_policy(pi, gw)"
   ]
  }
 ],
 "metadata": {
  "kernelspec": {
   "display_name": "Python 3",
   "language": "python",
   "name": "python3"
  },
  "language_info": {
   "codemirror_mode": {
    "name": "ipython",
    "version": 3
   },
   "file_extension": ".py",
   "mimetype": "text/x-python",
   "name": "python",
   "nbconvert_exporter": "python",
   "pygments_lexer": "ipython3",
   "version": "3.7.7"
  }
 },
 "nbformat": 4,
 "nbformat_minor": 4
}
